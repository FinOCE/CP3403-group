{
 "cells": [
  {
   "cell_type": "code",
   "execution_count": 1,
   "metadata": {
    "vscode": {
     "languageId": "plaintext"
    }
   },
   "outputs": [],
   "source": [
    "# Import necessary modules\n",
    "import pandas as pd\n",
    "import numpy as np"
   ]
  },
  {
   "cell_type": "code",
   "execution_count": 2,
   "metadata": {},
   "outputs": [
    {
     "data": {
      "text/html": [
       "<div>\n",
       "<style scoped>\n",
       "    .dataframe tbody tr th:only-of-type {\n",
       "        vertical-align: middle;\n",
       "    }\n",
       "\n",
       "    .dataframe tbody tr th {\n",
       "        vertical-align: top;\n",
       "    }\n",
       "\n",
       "    .dataframe thead th {\n",
       "        text-align: right;\n",
       "    }\n",
       "</style>\n",
       "<table border=\"1\" class=\"dataframe\">\n",
       "  <thead>\n",
       "    <tr style=\"text-align: right;\">\n",
       "      <th></th>\n",
       "      <th>MMSI</th>\n",
       "      <th>BaseDateTime</th>\n",
       "      <th>LAT</th>\n",
       "      <th>LON</th>\n",
       "      <th>SOG</th>\n",
       "      <th>COG</th>\n",
       "      <th>Heading</th>\n",
       "      <th>VesselName</th>\n",
       "      <th>IMO</th>\n",
       "      <th>CallSign</th>\n",
       "      <th>VesselType</th>\n",
       "      <th>Status</th>\n",
       "      <th>Length</th>\n",
       "      <th>Width</th>\n",
       "      <th>Draft</th>\n",
       "      <th>Cargo</th>\n",
       "      <th>TranscieverClass</th>\n",
       "    </tr>\n",
       "  </thead>\n",
       "  <tbody>\n",
       "    <tr>\n",
       "      <th>0</th>\n",
       "      <td>338325166</td>\n",
       "      <td>2021-01-01T00:00:20</td>\n",
       "      <td>28.08771</td>\n",
       "      <td>-82.77474</td>\n",
       "      <td>0.0</td>\n",
       "      <td>0.0</td>\n",
       "      <td>511.0</td>\n",
       "      <td>SALT WIFE</td>\n",
       "      <td>IMO0000000</td>\n",
       "      <td>NaN</td>\n",
       "      <td>37.0</td>\n",
       "      <td>NaN</td>\n",
       "      <td>13.0</td>\n",
       "      <td>6.0</td>\n",
       "      <td>NaN</td>\n",
       "      <td>NaN</td>\n",
       "      <td>B</td>\n",
       "    </tr>\n",
       "    <tr>\n",
       "      <th>1</th>\n",
       "      <td>368163740</td>\n",
       "      <td>2021-01-01T00:00:18</td>\n",
       "      <td>26.10727</td>\n",
       "      <td>-80.12551</td>\n",
       "      <td>0.0</td>\n",
       "      <td>360.0</td>\n",
       "      <td>511.0</td>\n",
       "      <td>TOTALLY EXCELLENT</td>\n",
       "      <td>IMO0000000</td>\n",
       "      <td>WDL7818</td>\n",
       "      <td>37.0</td>\n",
       "      <td>NaN</td>\n",
       "      <td>18.0</td>\n",
       "      <td>4.0</td>\n",
       "      <td>NaN</td>\n",
       "      <td>NaN</td>\n",
       "      <td>B</td>\n",
       "    </tr>\n",
       "    <tr>\n",
       "      <th>2</th>\n",
       "      <td>366811570</td>\n",
       "      <td>2021-01-01T00:00:23</td>\n",
       "      <td>30.66150</td>\n",
       "      <td>-88.03264</td>\n",
       "      <td>0.0</td>\n",
       "      <td>196.0</td>\n",
       "      <td>270.0</td>\n",
       "      <td>NATALIE H</td>\n",
       "      <td>IMO7200245</td>\n",
       "      <td>WDA4637</td>\n",
       "      <td>31.0</td>\n",
       "      <td>0.0</td>\n",
       "      <td>18.0</td>\n",
       "      <td>7.0</td>\n",
       "      <td>NaN</td>\n",
       "      <td>NaN</td>\n",
       "      <td>A</td>\n",
       "    </tr>\n",
       "    <tr>\n",
       "      <th>3</th>\n",
       "      <td>368140750</td>\n",
       "      <td>2021-01-01T00:00:24</td>\n",
       "      <td>30.23140</td>\n",
       "      <td>-93.25791</td>\n",
       "      <td>0.0</td>\n",
       "      <td>50.5</td>\n",
       "      <td>272.0</td>\n",
       "      <td>NaN</td>\n",
       "      <td>NaN</td>\n",
       "      <td>NaN</td>\n",
       "      <td>NaN</td>\n",
       "      <td>15.0</td>\n",
       "      <td>NaN</td>\n",
       "      <td>NaN</td>\n",
       "      <td>NaN</td>\n",
       "      <td>NaN</td>\n",
       "      <td>A</td>\n",
       "    </tr>\n",
       "    <tr>\n",
       "      <th>4</th>\n",
       "      <td>368170010</td>\n",
       "      <td>2021-01-01T00:00:28</td>\n",
       "      <td>29.57223</td>\n",
       "      <td>-90.59391</td>\n",
       "      <td>0.0</td>\n",
       "      <td>316.2</td>\n",
       "      <td>197.0</td>\n",
       "      <td>NaN</td>\n",
       "      <td>NaN</td>\n",
       "      <td>NaN</td>\n",
       "      <td>NaN</td>\n",
       "      <td>13.0</td>\n",
       "      <td>NaN</td>\n",
       "      <td>NaN</td>\n",
       "      <td>NaN</td>\n",
       "      <td>NaN</td>\n",
       "      <td>A</td>\n",
       "    </tr>\n",
       "  </tbody>\n",
       "</table>\n",
       "</div>"
      ],
      "text/plain": [
       "        MMSI         BaseDateTime       LAT       LON  SOG    COG  Heading  \\\n",
       "0  338325166  2021-01-01T00:00:20  28.08771 -82.77474  0.0    0.0    511.0   \n",
       "1  368163740  2021-01-01T00:00:18  26.10727 -80.12551  0.0  360.0    511.0   \n",
       "2  366811570  2021-01-01T00:00:23  30.66150 -88.03264  0.0  196.0    270.0   \n",
       "3  368140750  2021-01-01T00:00:24  30.23140 -93.25791  0.0   50.5    272.0   \n",
       "4  368170010  2021-01-01T00:00:28  29.57223 -90.59391  0.0  316.2    197.0   \n",
       "\n",
       "          VesselName         IMO CallSign  VesselType  Status  Length  Width  \\\n",
       "0          SALT WIFE  IMO0000000      NaN        37.0     NaN    13.0    6.0   \n",
       "1  TOTALLY EXCELLENT  IMO0000000  WDL7818        37.0     NaN    18.0    4.0   \n",
       "2          NATALIE H  IMO7200245  WDA4637        31.0     0.0    18.0    7.0   \n",
       "3                NaN         NaN      NaN         NaN    15.0     NaN    NaN   \n",
       "4                NaN         NaN      NaN         NaN    13.0     NaN    NaN   \n",
       "\n",
       "   Draft  Cargo TranscieverClass  \n",
       "0    NaN    NaN                B  \n",
       "1    NaN    NaN                B  \n",
       "2    NaN    NaN                A  \n",
       "3    NaN    NaN                A  \n",
       "4    NaN    NaN                A  "
      ]
     },
     "execution_count": 2,
     "metadata": {},
     "output_type": "execute_result"
    }
   ],
   "source": [
    "# Read data from CSV\n",
    "data = pd.read_csv('data/AIS_2021_01_01.csv',header=\"infer\")\n",
    "data1 = data.copy()\n",
    "data1.head(5)"
   ]
  },
  {
   "cell_type": "code",
   "execution_count": 3,
   "metadata": {},
   "outputs": [
    {
     "data": {
      "text/plain": [
       "MMSI                  int64\n",
       "BaseDateTime         object\n",
       "LAT                 float64\n",
       "LON                 float64\n",
       "SOG                 float64\n",
       "COG                 float64\n",
       "Heading             float64\n",
       "VesselName           object\n",
       "IMO                  object\n",
       "CallSign             object\n",
       "VesselType          float64\n",
       "Status              float64\n",
       "Length              float64\n",
       "Width               float64\n",
       "Draft               float64\n",
       "Cargo               float64\n",
       "TranscieverClass     object\n",
       "dtype: object"
      ]
     },
     "execution_count": 3,
     "metadata": {},
     "output_type": "execute_result"
    }
   ],
   "source": [
    "# Convert data types of columns to what they are supposed to be\n",
    "pd.to_datetime(data1['BaseDateTime'], errors='coerce')\n",
    "data1[['LAT', 'LON', 'SOG', 'COG', 'Heading', 'VesselType', 'Status', 'Length', 'Width', 'Draft']].apply(pd.to_numeric, errors='coerce')\n",
    "data1.dtypes"
   ]
  },
  {
   "cell_type": "code",
   "execution_count": 4,
   "metadata": {},
   "outputs": [
    {
     "data": {
      "text/html": [
       "<div>\n",
       "<style scoped>\n",
       "    .dataframe tbody tr th:only-of-type {\n",
       "        vertical-align: middle;\n",
       "    }\n",
       "\n",
       "    .dataframe tbody tr th {\n",
       "        vertical-align: top;\n",
       "    }\n",
       "\n",
       "    .dataframe thead th {\n",
       "        text-align: right;\n",
       "    }\n",
       "</style>\n",
       "<table border=\"1\" class=\"dataframe\">\n",
       "  <thead>\n",
       "    <tr style=\"text-align: right;\">\n",
       "      <th></th>\n",
       "      <th>MMSI</th>\n",
       "      <th>BaseDateTime</th>\n",
       "      <th>LAT</th>\n",
       "      <th>LON</th>\n",
       "      <th>Heading</th>\n",
       "    </tr>\n",
       "  </thead>\n",
       "  <tbody>\n",
       "    <tr>\n",
       "      <th>0</th>\n",
       "      <td>338325166</td>\n",
       "      <td>2021-01-01T00:00:20</td>\n",
       "      <td>28.08771</td>\n",
       "      <td>-82.77474</td>\n",
       "      <td>511.0</td>\n",
       "    </tr>\n",
       "    <tr>\n",
       "      <th>1</th>\n",
       "      <td>368163740</td>\n",
       "      <td>2021-01-01T00:00:18</td>\n",
       "      <td>26.10727</td>\n",
       "      <td>-80.12551</td>\n",
       "      <td>511.0</td>\n",
       "    </tr>\n",
       "    <tr>\n",
       "      <th>2</th>\n",
       "      <td>366811570</td>\n",
       "      <td>2021-01-01T00:00:23</td>\n",
       "      <td>30.66150</td>\n",
       "      <td>-88.03264</td>\n",
       "      <td>270.0</td>\n",
       "    </tr>\n",
       "    <tr>\n",
       "      <th>3</th>\n",
       "      <td>368140750</td>\n",
       "      <td>2021-01-01T00:00:24</td>\n",
       "      <td>30.23140</td>\n",
       "      <td>-93.25791</td>\n",
       "      <td>272.0</td>\n",
       "    </tr>\n",
       "    <tr>\n",
       "      <th>4</th>\n",
       "      <td>368170010</td>\n",
       "      <td>2021-01-01T00:00:28</td>\n",
       "      <td>29.57223</td>\n",
       "      <td>-90.59391</td>\n",
       "      <td>197.0</td>\n",
       "    </tr>\n",
       "  </tbody>\n",
       "</table>\n",
       "</div>"
      ],
      "text/plain": [
       "        MMSI         BaseDateTime       LAT       LON  Heading\n",
       "0  338325166  2021-01-01T00:00:20  28.08771 -82.77474    511.0\n",
       "1  368163740  2021-01-01T00:00:18  26.10727 -80.12551    511.0\n",
       "2  366811570  2021-01-01T00:00:23  30.66150 -88.03264    270.0\n",
       "3  368140750  2021-01-01T00:00:24  30.23140 -93.25791    272.0\n",
       "4  368170010  2021-01-01T00:00:28  29.57223 -90.59391    197.0"
      ]
     },
     "execution_count": 4,
     "metadata": {},
     "output_type": "execute_result"
    }
   ],
   "source": [
    "# Drop unnecessary columns\n",
    "data2 = data1.copy()\n",
    "data2.drop(['VesselName', 'IMO', 'CallSign', 'SOG', 'COG', 'VesselType', 'Status','Length', 'Width', 'Draft', 'Cargo', 'TranscieverClass' ], inplace=True, axis=1)\n",
    "data2.head(5)"
   ]
  },
  {
   "cell_type": "code",
   "execution_count": 5,
   "metadata": {},
   "outputs": [
    {
     "data": {
      "text/plain": [
       "338325166     466\n",
       "368163740      57\n",
       "366811570    1001\n",
       "368140750    1212\n",
       "368170010     683\n",
       "Name: MMSI, dtype: int64"
      ]
     },
     "execution_count": 5,
     "metadata": {},
     "output_type": "execute_result"
    }
   ],
   "source": [
    "# The ping count for each unique MMSI\n",
    "var1 = data2['MMSI'].value_counts(sort=False, dropna=True)\n",
    "var1.head(5)"
   ]
  },
  {
   "cell_type": "code",
   "execution_count": 8,
   "metadata": {},
   "outputs": [
    {
     "name": "stdout",
     "output_type": "stream",
     "text": [
      "MMSI_COUNT\n",
      "0        466\n",
      "1    6624346\n",
      "dtype: int64\n"
     ]
    }
   ],
   "source": [
    "# 0 is the number of MMSI's with only 1 ping. 1 is the number of MMSI's with 2 or greater pings.\n",
    "\n",
    "def MMSI_COUNT (row):\n",
    "   if row['MMSI'] >= 2 :\n",
    "      return 1\n",
    "   elif row['MMSI'] < 2 :\n",
    "      return 0\n",
    "      \n",
    "data2['MMSI_COUNT'] = data2.apply (lambda row: MMSI_COUNT (row),axis=1)\n",
    "      \n",
    "var2 = data2.groupby('MMSI_COUNT').size()\n",
    "print(var2)"
   ]
  },
  {
   "cell_type": "code",
   "execution_count": 7,
   "metadata": {},
   "outputs": [],
   "source": [
    "# We need to filter out all the MMSI's with only 1 ping. We need at least 2 pings to know for sure that the ship has moved."
   ]
  }
 ],
 "metadata": {
  "kernelspec": {
   "display_name": "Python 3 (ipykernel)",
   "language": "python",
   "name": "python3"
  },
  "language_info": {
   "codemirror_mode": {
    "name": "ipython",
    "version": 3
   },
   "file_extension": ".py",
   "mimetype": "text/x-python",
   "name": "python",
   "nbconvert_exporter": "python",
   "pygments_lexer": "ipython3",
   "version": "3.9.7"
  }
 },
 "nbformat": 4,
 "nbformat_minor": 2
}
