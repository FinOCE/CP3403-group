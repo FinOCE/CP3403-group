{
 "cells": [
  {
   "cell_type": "markdown",
   "metadata": {
    "collapsed": true,
    "pycharm": {
     "name": "#%% md\n"
    }
   },
   "source": [
    "# Apriori Algorithm"
   ]
  },
  {
   "cell_type": "code",
   "execution_count": 1,
   "outputs": [],
   "source": [
    "CSV_LOCATION = 'data/heart_2020_cleaned.csv'"
   ],
   "metadata": {
    "collapsed": false,
    "pycharm": {
     "name": "#%%\n"
    }
   }
  },
  {
   "cell_type": "code",
   "execution_count": 2,
   "outputs": [],
   "source": [
    "# importing relevant libraries\n",
    "\n",
    "import pandas as pd\n",
    "from mlxtend.frequent_patterns import apriori, association_rules"
   ],
   "metadata": {
    "collapsed": false,
    "pycharm": {
     "name": "#%%\n"
    }
   }
  },
  {
   "cell_type": "code",
   "execution_count": 3,
   "outputs": [
    {
     "data": {
      "text/plain": "       HeartDisease    BMI Smoking AlcoholDrinking Stroke  PhysicalHealth  \\\n0                No  16.60     Yes              No     No             3.0   \n1                No  20.34      No              No    Yes             0.0   \n2                No  26.58     Yes              No     No            20.0   \n3                No  24.21      No              No     No             0.0   \n4                No  23.71      No              No     No            28.0   \n...             ...    ...     ...             ...    ...             ...   \n319790          Yes  27.41     Yes              No     No             7.0   \n319791           No  29.84     Yes              No     No             0.0   \n319792           No  24.24      No              No     No             0.0   \n319793           No  32.81      No              No     No             0.0   \n319794           No  46.56      No              No     No             0.0   \n\n        MentalHealth DiffWalking     Sex  AgeCategory      Race Diabetic  \\\n0               30.0          No  Female        55-59     White      Yes   \n1                0.0          No  Female  80 or older     White       No   \n2               30.0          No    Male        65-69     White      Yes   \n3                0.0          No  Female        75-79     White       No   \n4                0.0         Yes  Female        40-44     White       No   \n...              ...         ...     ...          ...       ...      ...   \n319790           0.0         Yes    Male        60-64  Hispanic      Yes   \n319791           0.0          No    Male        35-39  Hispanic       No   \n319792           0.0          No  Female        45-49  Hispanic       No   \n319793           0.0          No  Female        25-29  Hispanic       No   \n319794           0.0          No  Female  80 or older  Hispanic       No   \n\n       PhysicalActivity  GenHealth  SleepTime Asthma KidneyDisease SkinCancer  \n0                   Yes  Very good        5.0    Yes            No        Yes  \n1                   Yes  Very good        7.0     No            No         No  \n2                   Yes       Fair        8.0    Yes            No         No  \n3                    No       Good        6.0     No            No        Yes  \n4                   Yes  Very good        8.0     No            No         No  \n...                 ...        ...        ...    ...           ...        ...  \n319790               No       Fair        6.0    Yes            No         No  \n319791              Yes  Very good        5.0    Yes            No         No  \n319792              Yes       Good        6.0     No            No         No  \n319793               No       Good       12.0     No            No         No  \n319794              Yes       Good        8.0     No            No         No  \n\n[319795 rows x 18 columns]",
      "text/html": "<div>\n<style scoped>\n    .dataframe tbody tr th:only-of-type {\n        vertical-align: middle;\n    }\n\n    .dataframe tbody tr th {\n        vertical-align: top;\n    }\n\n    .dataframe thead th {\n        text-align: right;\n    }\n</style>\n<table border=\"1\" class=\"dataframe\">\n  <thead>\n    <tr style=\"text-align: right;\">\n      <th></th>\n      <th>HeartDisease</th>\n      <th>BMI</th>\n      <th>Smoking</th>\n      <th>AlcoholDrinking</th>\n      <th>Stroke</th>\n      <th>PhysicalHealth</th>\n      <th>MentalHealth</th>\n      <th>DiffWalking</th>\n      <th>Sex</th>\n      <th>AgeCategory</th>\n      <th>Race</th>\n      <th>Diabetic</th>\n      <th>PhysicalActivity</th>\n      <th>GenHealth</th>\n      <th>SleepTime</th>\n      <th>Asthma</th>\n      <th>KidneyDisease</th>\n      <th>SkinCancer</th>\n    </tr>\n  </thead>\n  <tbody>\n    <tr>\n      <th>0</th>\n      <td>No</td>\n      <td>16.60</td>\n      <td>Yes</td>\n      <td>No</td>\n      <td>No</td>\n      <td>3.0</td>\n      <td>30.0</td>\n      <td>No</td>\n      <td>Female</td>\n      <td>55-59</td>\n      <td>White</td>\n      <td>Yes</td>\n      <td>Yes</td>\n      <td>Very good</td>\n      <td>5.0</td>\n      <td>Yes</td>\n      <td>No</td>\n      <td>Yes</td>\n    </tr>\n    <tr>\n      <th>1</th>\n      <td>No</td>\n      <td>20.34</td>\n      <td>No</td>\n      <td>No</td>\n      <td>Yes</td>\n      <td>0.0</td>\n      <td>0.0</td>\n      <td>No</td>\n      <td>Female</td>\n      <td>80 or older</td>\n      <td>White</td>\n      <td>No</td>\n      <td>Yes</td>\n      <td>Very good</td>\n      <td>7.0</td>\n      <td>No</td>\n      <td>No</td>\n      <td>No</td>\n    </tr>\n    <tr>\n      <th>2</th>\n      <td>No</td>\n      <td>26.58</td>\n      <td>Yes</td>\n      <td>No</td>\n      <td>No</td>\n      <td>20.0</td>\n      <td>30.0</td>\n      <td>No</td>\n      <td>Male</td>\n      <td>65-69</td>\n      <td>White</td>\n      <td>Yes</td>\n      <td>Yes</td>\n      <td>Fair</td>\n      <td>8.0</td>\n      <td>Yes</td>\n      <td>No</td>\n      <td>No</td>\n    </tr>\n    <tr>\n      <th>3</th>\n      <td>No</td>\n      <td>24.21</td>\n      <td>No</td>\n      <td>No</td>\n      <td>No</td>\n      <td>0.0</td>\n      <td>0.0</td>\n      <td>No</td>\n      <td>Female</td>\n      <td>75-79</td>\n      <td>White</td>\n      <td>No</td>\n      <td>No</td>\n      <td>Good</td>\n      <td>6.0</td>\n      <td>No</td>\n      <td>No</td>\n      <td>Yes</td>\n    </tr>\n    <tr>\n      <th>4</th>\n      <td>No</td>\n      <td>23.71</td>\n      <td>No</td>\n      <td>No</td>\n      <td>No</td>\n      <td>28.0</td>\n      <td>0.0</td>\n      <td>Yes</td>\n      <td>Female</td>\n      <td>40-44</td>\n      <td>White</td>\n      <td>No</td>\n      <td>Yes</td>\n      <td>Very good</td>\n      <td>8.0</td>\n      <td>No</td>\n      <td>No</td>\n      <td>No</td>\n    </tr>\n    <tr>\n      <th>...</th>\n      <td>...</td>\n      <td>...</td>\n      <td>...</td>\n      <td>...</td>\n      <td>...</td>\n      <td>...</td>\n      <td>...</td>\n      <td>...</td>\n      <td>...</td>\n      <td>...</td>\n      <td>...</td>\n      <td>...</td>\n      <td>...</td>\n      <td>...</td>\n      <td>...</td>\n      <td>...</td>\n      <td>...</td>\n      <td>...</td>\n    </tr>\n    <tr>\n      <th>319790</th>\n      <td>Yes</td>\n      <td>27.41</td>\n      <td>Yes</td>\n      <td>No</td>\n      <td>No</td>\n      <td>7.0</td>\n      <td>0.0</td>\n      <td>Yes</td>\n      <td>Male</td>\n      <td>60-64</td>\n      <td>Hispanic</td>\n      <td>Yes</td>\n      <td>No</td>\n      <td>Fair</td>\n      <td>6.0</td>\n      <td>Yes</td>\n      <td>No</td>\n      <td>No</td>\n    </tr>\n    <tr>\n      <th>319791</th>\n      <td>No</td>\n      <td>29.84</td>\n      <td>Yes</td>\n      <td>No</td>\n      <td>No</td>\n      <td>0.0</td>\n      <td>0.0</td>\n      <td>No</td>\n      <td>Male</td>\n      <td>35-39</td>\n      <td>Hispanic</td>\n      <td>No</td>\n      <td>Yes</td>\n      <td>Very good</td>\n      <td>5.0</td>\n      <td>Yes</td>\n      <td>No</td>\n      <td>No</td>\n    </tr>\n    <tr>\n      <th>319792</th>\n      <td>No</td>\n      <td>24.24</td>\n      <td>No</td>\n      <td>No</td>\n      <td>No</td>\n      <td>0.0</td>\n      <td>0.0</td>\n      <td>No</td>\n      <td>Female</td>\n      <td>45-49</td>\n      <td>Hispanic</td>\n      <td>No</td>\n      <td>Yes</td>\n      <td>Good</td>\n      <td>6.0</td>\n      <td>No</td>\n      <td>No</td>\n      <td>No</td>\n    </tr>\n    <tr>\n      <th>319793</th>\n      <td>No</td>\n      <td>32.81</td>\n      <td>No</td>\n      <td>No</td>\n      <td>No</td>\n      <td>0.0</td>\n      <td>0.0</td>\n      <td>No</td>\n      <td>Female</td>\n      <td>25-29</td>\n      <td>Hispanic</td>\n      <td>No</td>\n      <td>No</td>\n      <td>Good</td>\n      <td>12.0</td>\n      <td>No</td>\n      <td>No</td>\n      <td>No</td>\n    </tr>\n    <tr>\n      <th>319794</th>\n      <td>No</td>\n      <td>46.56</td>\n      <td>No</td>\n      <td>No</td>\n      <td>No</td>\n      <td>0.0</td>\n      <td>0.0</td>\n      <td>No</td>\n      <td>Female</td>\n      <td>80 or older</td>\n      <td>Hispanic</td>\n      <td>No</td>\n      <td>Yes</td>\n      <td>Good</td>\n      <td>8.0</td>\n      <td>No</td>\n      <td>No</td>\n      <td>No</td>\n    </tr>\n  </tbody>\n</table>\n<p>319795 rows × 18 columns</p>\n</div>"
     },
     "execution_count": 3,
     "metadata": {},
     "output_type": "execute_result"
    }
   ],
   "source": [
    "# Import dataset from file\n",
    "\n",
    "data = pd.read_csv(CSV_LOCATION, low_memory=False)\n",
    "\n",
    "data"
   ],
   "metadata": {
    "collapsed": false,
    "pycharm": {
     "name": "#%%\n"
    }
   }
  },
  {
   "cell_type": "code",
   "execution_count": 4,
   "outputs": [
    {
     "data": {
      "text/plain": "        HeartDisease BMI  Smoking  AlcoholDrinking  Stroke  PhysicalHealth  \\\n0                  0   0        1                0       0        0.100000   \n1                  0   1        0                0       1        0.000000   \n2                  0   2        1                0       0        0.666667   \n3                  0   1        0                0       0        0.000000   \n4                  0   1        0                0       0        0.933333   \n...              ...  ..      ...              ...     ...             ...   \n319790             1   2        1                0       0        0.233333   \n319791             0   2        1                0       0        0.000000   \n319792             0   1        0                0       0        0.000000   \n319793             0   3        0                0       0        0.000000   \n319794             0   3        0                0       0        0.000000   \n\n        MentalHealth  DiffWalking     Sex  AgeCategory      Race  Diabetic  \\\n0                1.0            0  Female        55-59     White         1   \n1                0.0            0  Female  80 or older     White         0   \n2                1.0            0    Male        65-69     White         1   \n3                0.0            0  Female        75-79     White         0   \n4                0.0            1  Female        40-44     White         0   \n...              ...          ...     ...          ...       ...       ...   \n319790           0.0            1    Male        60-64  Hispanic         1   \n319791           0.0            0    Male        35-39  Hispanic         0   \n319792           0.0            0  Female        45-49  Hispanic         0   \n319793           0.0            0  Female        25-29  Hispanic         0   \n319794           0.0            0  Female  80 or older  Hispanic         0   \n\n        PhysicalActivity  GenHealth SleepTime  Asthma  KidneyDisease  \\\n0                      1  Very good       Low       1              0   \n1                      1  Very good       Low       0              0   \n2                      1       Fair    Normal       1              0   \n3                      0       Good       Low       0              0   \n4                      1  Very good    Normal       0              0   \n...                  ...        ...       ...     ...            ...   \n319790                 0       Fair       Low       1              0   \n319791                 1  Very good       Low       1              0   \n319792                 1       Good       Low       0              0   \n319793                 0       Good      High       0              0   \n319794                 1       Good    Normal       0              0   \n\n        SkinCancer  \n0                1  \n1                0  \n2                0  \n3                1  \n4                0  \n...            ...  \n319790           0  \n319791           0  \n319792           0  \n319793           0  \n319794           0  \n\n[319795 rows x 18 columns]",
      "text/html": "<div>\n<style scoped>\n    .dataframe tbody tr th:only-of-type {\n        vertical-align: middle;\n    }\n\n    .dataframe tbody tr th {\n        vertical-align: top;\n    }\n\n    .dataframe thead th {\n        text-align: right;\n    }\n</style>\n<table border=\"1\" class=\"dataframe\">\n  <thead>\n    <tr style=\"text-align: right;\">\n      <th></th>\n      <th>HeartDisease</th>\n      <th>BMI</th>\n      <th>Smoking</th>\n      <th>AlcoholDrinking</th>\n      <th>Stroke</th>\n      <th>PhysicalHealth</th>\n      <th>MentalHealth</th>\n      <th>DiffWalking</th>\n      <th>Sex</th>\n      <th>AgeCategory</th>\n      <th>Race</th>\n      <th>Diabetic</th>\n      <th>PhysicalActivity</th>\n      <th>GenHealth</th>\n      <th>SleepTime</th>\n      <th>Asthma</th>\n      <th>KidneyDisease</th>\n      <th>SkinCancer</th>\n    </tr>\n  </thead>\n  <tbody>\n    <tr>\n      <th>0</th>\n      <td>0</td>\n      <td>0</td>\n      <td>1</td>\n      <td>0</td>\n      <td>0</td>\n      <td>0.100000</td>\n      <td>1.0</td>\n      <td>0</td>\n      <td>Female</td>\n      <td>55-59</td>\n      <td>White</td>\n      <td>1</td>\n      <td>1</td>\n      <td>Very good</td>\n      <td>Low</td>\n      <td>1</td>\n      <td>0</td>\n      <td>1</td>\n    </tr>\n    <tr>\n      <th>1</th>\n      <td>0</td>\n      <td>1</td>\n      <td>0</td>\n      <td>0</td>\n      <td>1</td>\n      <td>0.000000</td>\n      <td>0.0</td>\n      <td>0</td>\n      <td>Female</td>\n      <td>80 or older</td>\n      <td>White</td>\n      <td>0</td>\n      <td>1</td>\n      <td>Very good</td>\n      <td>Low</td>\n      <td>0</td>\n      <td>0</td>\n      <td>0</td>\n    </tr>\n    <tr>\n      <th>2</th>\n      <td>0</td>\n      <td>2</td>\n      <td>1</td>\n      <td>0</td>\n      <td>0</td>\n      <td>0.666667</td>\n      <td>1.0</td>\n      <td>0</td>\n      <td>Male</td>\n      <td>65-69</td>\n      <td>White</td>\n      <td>1</td>\n      <td>1</td>\n      <td>Fair</td>\n      <td>Normal</td>\n      <td>1</td>\n      <td>0</td>\n      <td>0</td>\n    </tr>\n    <tr>\n      <th>3</th>\n      <td>0</td>\n      <td>1</td>\n      <td>0</td>\n      <td>0</td>\n      <td>0</td>\n      <td>0.000000</td>\n      <td>0.0</td>\n      <td>0</td>\n      <td>Female</td>\n      <td>75-79</td>\n      <td>White</td>\n      <td>0</td>\n      <td>0</td>\n      <td>Good</td>\n      <td>Low</td>\n      <td>0</td>\n      <td>0</td>\n      <td>1</td>\n    </tr>\n    <tr>\n      <th>4</th>\n      <td>0</td>\n      <td>1</td>\n      <td>0</td>\n      <td>0</td>\n      <td>0</td>\n      <td>0.933333</td>\n      <td>0.0</td>\n      <td>1</td>\n      <td>Female</td>\n      <td>40-44</td>\n      <td>White</td>\n      <td>0</td>\n      <td>1</td>\n      <td>Very good</td>\n      <td>Normal</td>\n      <td>0</td>\n      <td>0</td>\n      <td>0</td>\n    </tr>\n    <tr>\n      <th>...</th>\n      <td>...</td>\n      <td>...</td>\n      <td>...</td>\n      <td>...</td>\n      <td>...</td>\n      <td>...</td>\n      <td>...</td>\n      <td>...</td>\n      <td>...</td>\n      <td>...</td>\n      <td>...</td>\n      <td>...</td>\n      <td>...</td>\n      <td>...</td>\n      <td>...</td>\n      <td>...</td>\n      <td>...</td>\n      <td>...</td>\n    </tr>\n    <tr>\n      <th>319790</th>\n      <td>1</td>\n      <td>2</td>\n      <td>1</td>\n      <td>0</td>\n      <td>0</td>\n      <td>0.233333</td>\n      <td>0.0</td>\n      <td>1</td>\n      <td>Male</td>\n      <td>60-64</td>\n      <td>Hispanic</td>\n      <td>1</td>\n      <td>0</td>\n      <td>Fair</td>\n      <td>Low</td>\n      <td>1</td>\n      <td>0</td>\n      <td>0</td>\n    </tr>\n    <tr>\n      <th>319791</th>\n      <td>0</td>\n      <td>2</td>\n      <td>1</td>\n      <td>0</td>\n      <td>0</td>\n      <td>0.000000</td>\n      <td>0.0</td>\n      <td>0</td>\n      <td>Male</td>\n      <td>35-39</td>\n      <td>Hispanic</td>\n      <td>0</td>\n      <td>1</td>\n      <td>Very good</td>\n      <td>Low</td>\n      <td>1</td>\n      <td>0</td>\n      <td>0</td>\n    </tr>\n    <tr>\n      <th>319792</th>\n      <td>0</td>\n      <td>1</td>\n      <td>0</td>\n      <td>0</td>\n      <td>0</td>\n      <td>0.000000</td>\n      <td>0.0</td>\n      <td>0</td>\n      <td>Female</td>\n      <td>45-49</td>\n      <td>Hispanic</td>\n      <td>0</td>\n      <td>1</td>\n      <td>Good</td>\n      <td>Low</td>\n      <td>0</td>\n      <td>0</td>\n      <td>0</td>\n    </tr>\n    <tr>\n      <th>319793</th>\n      <td>0</td>\n      <td>3</td>\n      <td>0</td>\n      <td>0</td>\n      <td>0</td>\n      <td>0.000000</td>\n      <td>0.0</td>\n      <td>0</td>\n      <td>Female</td>\n      <td>25-29</td>\n      <td>Hispanic</td>\n      <td>0</td>\n      <td>0</td>\n      <td>Good</td>\n      <td>High</td>\n      <td>0</td>\n      <td>0</td>\n      <td>0</td>\n    </tr>\n    <tr>\n      <th>319794</th>\n      <td>0</td>\n      <td>3</td>\n      <td>0</td>\n      <td>0</td>\n      <td>0</td>\n      <td>0.000000</td>\n      <td>0.0</td>\n      <td>0</td>\n      <td>Female</td>\n      <td>80 or older</td>\n      <td>Hispanic</td>\n      <td>0</td>\n      <td>1</td>\n      <td>Good</td>\n      <td>Normal</td>\n      <td>0</td>\n      <td>0</td>\n      <td>0</td>\n    </tr>\n  </tbody>\n</table>\n<p>319795 rows × 18 columns</p>\n</div>"
     },
     "execution_count": 4,
     "metadata": {},
     "output_type": "execute_result"
    }
   ],
   "source": [
    "# Preprocess the data\n",
    "\n",
    "data['HeartDisease'] = data['HeartDisease'].eq('Yes').astype(int)\n",
    "data['Smoking'] = data['Smoking'].eq('Yes').astype(int)\n",
    "data['AlcoholDrinking'] = data['AlcoholDrinking'].eq('Yes').astype(int)\n",
    "data['Stroke'] = data['Stroke'].eq('Yes').astype(int)\n",
    "data['DiffWalking'] = data['DiffWalking'].eq('Yes').astype(int)\n",
    "data['Diabetic'] = data['Diabetic'].eq('Yes').astype(int)\n",
    "data['PhysicalActivity'] = data['PhysicalActivity'].eq('Yes').astype(int)\n",
    "data['Asthma'] = data['Asthma'].eq('Yes').astype(int)\n",
    "data['KidneyDisease'] = data['KidneyDisease'].eq('Yes').astype(int)\n",
    "data['SkinCancer'] = data['SkinCancer'].eq('Yes').astype(int)\n",
    "\n",
    "def min_max_scaling(series):\n",
    "  \"\"\" Normalise value as explained in https://datagy.io/pandas-normalize-column/ \"\"\"\n",
    "  return (series - series.min()) / (series.max() - series.min())\n",
    "\n",
    "# Categorise BMI as per https://www.health.nsw.gov.au/heal/Pages/bmi.aspx\n",
    "data['BMI'] = pd.cut(\n",
    "  data['BMI'],\n",
    "  bins=[0, 18.5, 25, 30, 100],\n",
    "  labels=[0, 1, 2, 3] # ['Underweight', 'Normal', 'Overweight', 'Obese']\n",
    ")\n",
    "\n",
    "data['PhysicalHealth'] = min_max_scaling(data['PhysicalHealth'])\n",
    "data['MentalHealth'] = min_max_scaling(data['MentalHealth'])\n",
    "\n",
    "# Categorise amount of sleep as per https://www.sleep.org/how-sleep-works/how-many-hours-of-sleep-do-we-need/\n",
    "data['SleepTime'] = pd.cut(\n",
    "  data['SleepTime'],\n",
    "  bins=[0, 7, 9, 24],\n",
    "  labels=['Low', 'Normal', 'High']\n",
    ")\n",
    "data"
   ],
   "metadata": {
    "collapsed": false,
    "pycharm": {
     "name": "#%%\n"
    }
   }
  },
  {
   "cell_type": "code",
   "execution_count": 5,
   "outputs": [
    {
     "name": "stdout",
     "output_type": "stream",
     "text": [
      "int32       10\n",
      "object       4\n",
      "float64      2\n",
      "category     1\n",
      "category     1\n",
      "dtype: int64\n"
     ]
    }
   ],
   "source": [
    "data['HeartDisease'] = pd.to_numeric(data['HeartDisease'])\n",
    "data['Smoking'] = pd.to_numeric(data['Smoking'])\n",
    "data['AlcoholDrinking'] = pd.to_numeric(data['AlcoholDrinking'])\n",
    "data['Stroke'] = pd.to_numeric(data['Stroke'])\n",
    "data['DiffWalking'] = pd.to_numeric(data['DiffWalking'])\n",
    "data['Diabetic'] = pd.to_numeric(data['Diabetic'])\n",
    "data['PhysicalActivity'] = pd.to_numeric(data['PhysicalActivity'])\n",
    "data['Asthma'] = pd.to_numeric(data['Asthma'])\n",
    "data['KidneyDisease'] = pd.to_numeric(data['KidneyDisease'])\n",
    "data['SkinCancer'] = pd.to_numeric(data['SkinCancer'])\n",
    "\n",
    "print(data.dtypes.value_counts())"
   ],
   "metadata": {
    "collapsed": false,
    "pycharm": {
     "name": "#%%\n"
    }
   }
  },
  {
   "cell_type": "code",
   "execution_count": 6,
   "outputs": [
    {
     "name": "stdout",
     "output_type": "stream",
     "text": [
      "        HeartDisease  Smoking  AlcoholDrinking  Stroke  DiffWalking  Diabetic  \\\n",
      "0                  0        1                0       0            0         1   \n",
      "1                  0        0                0       1            0         0   \n",
      "2                  0        1                0       0            0         1   \n",
      "3                  0        0                0       0            0         0   \n",
      "4                  0        0                0       0            1         0   \n",
      "...              ...      ...              ...     ...          ...       ...   \n",
      "319790             1        1                0       0            1         1   \n",
      "319791             0        1                0       0            0         0   \n",
      "319792             0        0                0       0            0         0   \n",
      "319793             0        0                0       0            0         0   \n",
      "319794             0        0                0       0            0         0   \n",
      "\n",
      "        PhysicalActivity  Asthma  KidneyDisease  SkinCancer  \n",
      "0                      1       1              0           1  \n",
      "1                      1       0              0           0  \n",
      "2                      1       1              0           0  \n",
      "3                      0       0              0           1  \n",
      "4                      1       0              0           0  \n",
      "...                  ...     ...            ...         ...  \n",
      "319790                 0       1              0           0  \n",
      "319791                 1       1              0           0  \n",
      "319792                 1       0              0           0  \n",
      "319793                 0       0              0           0  \n",
      "319794                 1       0              0           0  \n",
      "\n",
      "[319795 rows x 10 columns]\n"
     ]
    }
   ],
   "source": [
    "data2 = data[['HeartDisease', 'Smoking', 'AlcoholDrinking', 'Stroke', 'DiffWalking',\n",
    "              'Diabetic', 'PhysicalActivity', 'Asthma', 'KidneyDisease', 'SkinCancer']]\n",
    "print(data2)"
   ],
   "metadata": {
    "collapsed": false,
    "pycharm": {
     "name": "#%%\n"
    }
   }
  },
  {
   "cell_type": "code",
   "execution_count": 7,
   "outputs": [
    {
     "data": {
      "text/plain": "        HeartDisease  Smoking  AlcoholDrinking  Stroke  DiffWalking  Diabetic  \\\n5                  1        1                0       0            1         0   \n10                 1        1                0       0            1         1   \n35                 1        1                0       1            1         1   \n42                 1        0                0       0            1         1   \n43                 1        1                0       0            1         1   \n...              ...      ...              ...     ...          ...       ...   \n319765             1        0                0       1            1         1   \n319767             1        1                0       0            1         1   \n319781             1        1                0       0            0         0   \n319786             1        1                0       0            0         1   \n319790             1        1                0       0            1         1   \n\n        PhysicalActivity  Asthma  KidneyDisease  SkinCancer  \n5                      0       0              0           0  \n10                     0       1              0           0  \n35                     1       0              0           1  \n42                     0       0              0           1  \n43                     1       0              1           0  \n...                  ...     ...            ...         ...  \n319765                 1       1              0           0  \n319767                 1       0              0           0  \n319781                 1       0              0           0  \n319786                 1       1              0           0  \n319790                 0       1              0           0  \n\n[27373 rows x 10 columns]",
      "text/html": "<div>\n<style scoped>\n    .dataframe tbody tr th:only-of-type {\n        vertical-align: middle;\n    }\n\n    .dataframe tbody tr th {\n        vertical-align: top;\n    }\n\n    .dataframe thead th {\n        text-align: right;\n    }\n</style>\n<table border=\"1\" class=\"dataframe\">\n  <thead>\n    <tr style=\"text-align: right;\">\n      <th></th>\n      <th>HeartDisease</th>\n      <th>Smoking</th>\n      <th>AlcoholDrinking</th>\n      <th>Stroke</th>\n      <th>DiffWalking</th>\n      <th>Diabetic</th>\n      <th>PhysicalActivity</th>\n      <th>Asthma</th>\n      <th>KidneyDisease</th>\n      <th>SkinCancer</th>\n    </tr>\n  </thead>\n  <tbody>\n    <tr>\n      <th>5</th>\n      <td>1</td>\n      <td>1</td>\n      <td>0</td>\n      <td>0</td>\n      <td>1</td>\n      <td>0</td>\n      <td>0</td>\n      <td>0</td>\n      <td>0</td>\n      <td>0</td>\n    </tr>\n    <tr>\n      <th>10</th>\n      <td>1</td>\n      <td>1</td>\n      <td>0</td>\n      <td>0</td>\n      <td>1</td>\n      <td>1</td>\n      <td>0</td>\n      <td>1</td>\n      <td>0</td>\n      <td>0</td>\n    </tr>\n    <tr>\n      <th>35</th>\n      <td>1</td>\n      <td>1</td>\n      <td>0</td>\n      <td>1</td>\n      <td>1</td>\n      <td>1</td>\n      <td>1</td>\n      <td>0</td>\n      <td>0</td>\n      <td>1</td>\n    </tr>\n    <tr>\n      <th>42</th>\n      <td>1</td>\n      <td>0</td>\n      <td>0</td>\n      <td>0</td>\n      <td>1</td>\n      <td>1</td>\n      <td>0</td>\n      <td>0</td>\n      <td>0</td>\n      <td>1</td>\n    </tr>\n    <tr>\n      <th>43</th>\n      <td>1</td>\n      <td>1</td>\n      <td>0</td>\n      <td>0</td>\n      <td>1</td>\n      <td>1</td>\n      <td>1</td>\n      <td>0</td>\n      <td>1</td>\n      <td>0</td>\n    </tr>\n    <tr>\n      <th>...</th>\n      <td>...</td>\n      <td>...</td>\n      <td>...</td>\n      <td>...</td>\n      <td>...</td>\n      <td>...</td>\n      <td>...</td>\n      <td>...</td>\n      <td>...</td>\n      <td>...</td>\n    </tr>\n    <tr>\n      <th>319765</th>\n      <td>1</td>\n      <td>0</td>\n      <td>0</td>\n      <td>1</td>\n      <td>1</td>\n      <td>1</td>\n      <td>1</td>\n      <td>1</td>\n      <td>0</td>\n      <td>0</td>\n    </tr>\n    <tr>\n      <th>319767</th>\n      <td>1</td>\n      <td>1</td>\n      <td>0</td>\n      <td>0</td>\n      <td>1</td>\n      <td>1</td>\n      <td>1</td>\n      <td>0</td>\n      <td>0</td>\n      <td>0</td>\n    </tr>\n    <tr>\n      <th>319781</th>\n      <td>1</td>\n      <td>1</td>\n      <td>0</td>\n      <td>0</td>\n      <td>0</td>\n      <td>0</td>\n      <td>1</td>\n      <td>0</td>\n      <td>0</td>\n      <td>0</td>\n    </tr>\n    <tr>\n      <th>319786</th>\n      <td>1</td>\n      <td>1</td>\n      <td>0</td>\n      <td>0</td>\n      <td>0</td>\n      <td>1</td>\n      <td>1</td>\n      <td>1</td>\n      <td>0</td>\n      <td>0</td>\n    </tr>\n    <tr>\n      <th>319790</th>\n      <td>1</td>\n      <td>1</td>\n      <td>0</td>\n      <td>0</td>\n      <td>1</td>\n      <td>1</td>\n      <td>0</td>\n      <td>1</td>\n      <td>0</td>\n      <td>0</td>\n    </tr>\n  </tbody>\n</table>\n<p>27373 rows × 10 columns</p>\n</div>"
     },
     "execution_count": 7,
     "metadata": {},
     "output_type": "execute_result"
    }
   ],
   "source": [
    "data3 = data2.loc[data['HeartDisease'] != 0]\n",
    "data3"
   ],
   "metadata": {
    "collapsed": false,
    "pycharm": {
     "name": "#%%\n"
    }
   }
  },
  {
   "cell_type": "code",
   "execution_count": 8,
   "outputs": [
    {
     "data": {
      "text/plain": "        HeartDisease  Smoking  AlcoholDrinking  Stroke  DiffWalking  Diabetic  \\\n5                  1        1                0       0            1         0   \n10                 1        1                0       0            1         1   \n35                 1        1                0       1            1         1   \n42                 1        0                0       0            1         1   \n43                 1        1                0       0            1         1   \n...              ...      ...              ...     ...          ...       ...   \n319765             1        0                0       1            1         1   \n319767             1        1                0       0            1         1   \n319781             1        1                0       0            0         0   \n319786             1        1                0       0            0         1   \n319790             1        1                0       0            1         1   \n\n        PhysicalActivity  Asthma  KidneyDisease  SkinCancer  \n5                      0       0              0           0  \n10                     0       1              0           0  \n35                     1       0              0           1  \n42                     0       0              0           1  \n43                     1       0              1           0  \n...                  ...     ...            ...         ...  \n319765                 1       1              0           0  \n319767                 1       0              0           0  \n319781                 1       0              0           0  \n319786                 1       1              0           0  \n319790                 0       1              0           0  \n\n[27373 rows x 10 columns]",
      "text/html": "<div>\n<style scoped>\n    .dataframe tbody tr th:only-of-type {\n        vertical-align: middle;\n    }\n\n    .dataframe tbody tr th {\n        vertical-align: top;\n    }\n\n    .dataframe thead th {\n        text-align: right;\n    }\n</style>\n<table border=\"1\" class=\"dataframe\">\n  <thead>\n    <tr style=\"text-align: right;\">\n      <th></th>\n      <th>HeartDisease</th>\n      <th>Smoking</th>\n      <th>AlcoholDrinking</th>\n      <th>Stroke</th>\n      <th>DiffWalking</th>\n      <th>Diabetic</th>\n      <th>PhysicalActivity</th>\n      <th>Asthma</th>\n      <th>KidneyDisease</th>\n      <th>SkinCancer</th>\n    </tr>\n  </thead>\n  <tbody>\n    <tr>\n      <th>5</th>\n      <td>1</td>\n      <td>1</td>\n      <td>0</td>\n      <td>0</td>\n      <td>1</td>\n      <td>0</td>\n      <td>0</td>\n      <td>0</td>\n      <td>0</td>\n      <td>0</td>\n    </tr>\n    <tr>\n      <th>10</th>\n      <td>1</td>\n      <td>1</td>\n      <td>0</td>\n      <td>0</td>\n      <td>1</td>\n      <td>1</td>\n      <td>0</td>\n      <td>1</td>\n      <td>0</td>\n      <td>0</td>\n    </tr>\n    <tr>\n      <th>35</th>\n      <td>1</td>\n      <td>1</td>\n      <td>0</td>\n      <td>1</td>\n      <td>1</td>\n      <td>1</td>\n      <td>1</td>\n      <td>0</td>\n      <td>0</td>\n      <td>1</td>\n    </tr>\n    <tr>\n      <th>42</th>\n      <td>1</td>\n      <td>0</td>\n      <td>0</td>\n      <td>0</td>\n      <td>1</td>\n      <td>1</td>\n      <td>0</td>\n      <td>0</td>\n      <td>0</td>\n      <td>1</td>\n    </tr>\n    <tr>\n      <th>43</th>\n      <td>1</td>\n      <td>1</td>\n      <td>0</td>\n      <td>0</td>\n      <td>1</td>\n      <td>1</td>\n      <td>1</td>\n      <td>0</td>\n      <td>1</td>\n      <td>0</td>\n    </tr>\n    <tr>\n      <th>...</th>\n      <td>...</td>\n      <td>...</td>\n      <td>...</td>\n      <td>...</td>\n      <td>...</td>\n      <td>...</td>\n      <td>...</td>\n      <td>...</td>\n      <td>...</td>\n      <td>...</td>\n    </tr>\n    <tr>\n      <th>319765</th>\n      <td>1</td>\n      <td>0</td>\n      <td>0</td>\n      <td>1</td>\n      <td>1</td>\n      <td>1</td>\n      <td>1</td>\n      <td>1</td>\n      <td>0</td>\n      <td>0</td>\n    </tr>\n    <tr>\n      <th>319767</th>\n      <td>1</td>\n      <td>1</td>\n      <td>0</td>\n      <td>0</td>\n      <td>1</td>\n      <td>1</td>\n      <td>1</td>\n      <td>0</td>\n      <td>0</td>\n      <td>0</td>\n    </tr>\n    <tr>\n      <th>319781</th>\n      <td>1</td>\n      <td>1</td>\n      <td>0</td>\n      <td>0</td>\n      <td>0</td>\n      <td>0</td>\n      <td>1</td>\n      <td>0</td>\n      <td>0</td>\n      <td>0</td>\n    </tr>\n    <tr>\n      <th>319786</th>\n      <td>1</td>\n      <td>1</td>\n      <td>0</td>\n      <td>0</td>\n      <td>0</td>\n      <td>1</td>\n      <td>1</td>\n      <td>1</td>\n      <td>0</td>\n      <td>0</td>\n    </tr>\n    <tr>\n      <th>319790</th>\n      <td>1</td>\n      <td>1</td>\n      <td>0</td>\n      <td>0</td>\n      <td>1</td>\n      <td>1</td>\n      <td>0</td>\n      <td>1</td>\n      <td>0</td>\n      <td>0</td>\n    </tr>\n  </tbody>\n</table>\n<p>27373 rows × 10 columns</p>\n</div>"
     },
     "execution_count": 8,
     "metadata": {},
     "output_type": "execute_result"
    }
   ],
   "source": [
    "data4 = data2.loc[data['HeartDisease'] != 1]\n",
    "data3"
   ],
   "metadata": {
    "collapsed": false,
    "pycharm": {
     "name": "#%%\n"
    }
   }
  },
  {
   "cell_type": "code",
   "execution_count": 9,
   "outputs": [
    {
     "name": "stdout",
     "output_type": "stream",
     "text": [
      "Processing 20 combinations | Sampling itemset size 2\n"
     ]
    },
    {
     "data": {
      "text/plain": "    support                     itemsets\n0  0.412477                    (Smoking)\n1  0.138870                (DiffWalking)\n2  0.127588                   (Diabetic)\n3  0.775362           (PhysicalActivity)\n4  0.134061                     (Asthma)\n5  0.299855  (PhysicalActivity, Smoking)",
      "text/html": "<div>\n<style scoped>\n    .dataframe tbody tr th:only-of-type {\n        vertical-align: middle;\n    }\n\n    .dataframe tbody tr th {\n        vertical-align: top;\n    }\n\n    .dataframe thead th {\n        text-align: right;\n    }\n</style>\n<table border=\"1\" class=\"dataframe\">\n  <thead>\n    <tr style=\"text-align: right;\">\n      <th></th>\n      <th>support</th>\n      <th>itemsets</th>\n    </tr>\n  </thead>\n  <tbody>\n    <tr>\n      <th>0</th>\n      <td>0.412477</td>\n      <td>(Smoking)</td>\n    </tr>\n    <tr>\n      <th>1</th>\n      <td>0.138870</td>\n      <td>(DiffWalking)</td>\n    </tr>\n    <tr>\n      <th>2</th>\n      <td>0.127588</td>\n      <td>(Diabetic)</td>\n    </tr>\n    <tr>\n      <th>3</th>\n      <td>0.775362</td>\n      <td>(PhysicalActivity)</td>\n    </tr>\n    <tr>\n      <th>4</th>\n      <td>0.134061</td>\n      <td>(Asthma)</td>\n    </tr>\n    <tr>\n      <th>5</th>\n      <td>0.299855</td>\n      <td>(PhysicalActivity, Smoking)</td>\n    </tr>\n  </tbody>\n</table>\n</div>"
     },
     "execution_count": 9,
     "metadata": {},
     "output_type": "execute_result"
    }
   ],
   "source": [
    "freq_items_all = apriori(data2, min_support=0.1, use_colnames=True, verbose=1)\n",
    "freq_items_all.head(7)"
   ],
   "metadata": {
    "collapsed": false,
    "pycharm": {
     "name": "#%%\n"
    }
   }
  },
  {
   "cell_type": "code",
   "execution_count": 10,
   "outputs": [
    {
     "name": "stdout",
     "output_type": "stream",
     "text": [
      "Processing 80 combinations | Sampling itemset size 43\n"
     ]
    },
    {
     "data": {
      "text/plain": "    support            itemsets\n0  1.000000      (HeartDisease)\n1  0.585869           (Smoking)\n2  0.160340            (Stroke)\n3  0.366346       (DiffWalking)\n4  0.327220          (Diabetic)\n5  0.638914  (PhysicalActivity)\n6  0.180214            (Asthma)",
      "text/html": "<div>\n<style scoped>\n    .dataframe tbody tr th:only-of-type {\n        vertical-align: middle;\n    }\n\n    .dataframe tbody tr th {\n        vertical-align: top;\n    }\n\n    .dataframe thead th {\n        text-align: right;\n    }\n</style>\n<table border=\"1\" class=\"dataframe\">\n  <thead>\n    <tr style=\"text-align: right;\">\n      <th></th>\n      <th>support</th>\n      <th>itemsets</th>\n    </tr>\n  </thead>\n  <tbody>\n    <tr>\n      <th>0</th>\n      <td>1.000000</td>\n      <td>(HeartDisease)</td>\n    </tr>\n    <tr>\n      <th>1</th>\n      <td>0.585869</td>\n      <td>(Smoking)</td>\n    </tr>\n    <tr>\n      <th>2</th>\n      <td>0.160340</td>\n      <td>(Stroke)</td>\n    </tr>\n    <tr>\n      <th>3</th>\n      <td>0.366346</td>\n      <td>(DiffWalking)</td>\n    </tr>\n    <tr>\n      <th>4</th>\n      <td>0.327220</td>\n      <td>(Diabetic)</td>\n    </tr>\n    <tr>\n      <th>5</th>\n      <td>0.638914</td>\n      <td>(PhysicalActivity)</td>\n    </tr>\n    <tr>\n      <th>6</th>\n      <td>0.180214</td>\n      <td>(Asthma)</td>\n    </tr>\n  </tbody>\n</table>\n</div>"
     },
     "execution_count": 10,
     "metadata": {},
     "output_type": "execute_result"
    }
   ],
   "source": [
    "freq_items_pos = apriori(data3, min_support=0.1, use_colnames=True, verbose=1)\n",
    "freq_items_pos.head(7)"
   ],
   "metadata": {
    "collapsed": false,
    "pycharm": {
     "name": "#%%\n"
    }
   }
  },
  {
   "cell_type": "code",
   "execution_count": 11,
   "outputs": [
    {
     "name": "stdout",
     "output_type": "stream",
     "text": [
      "Processing 20 combinations | Sampling itemset size 2\n"
     ]
    },
    {
     "data": {
      "text/plain": "    support                     itemsets\n0  0.396246                    (Smoking)\n1  0.117577                (DiffWalking)\n2  0.108901                   (Diabetic)\n3  0.788135           (PhysicalActivity)\n4  0.129741                     (Asthma)\n5  0.294451  (PhysicalActivity, Smoking)",
      "text/html": "<div>\n<style scoped>\n    .dataframe tbody tr th:only-of-type {\n        vertical-align: middle;\n    }\n\n    .dataframe tbody tr th {\n        vertical-align: top;\n    }\n\n    .dataframe thead th {\n        text-align: right;\n    }\n</style>\n<table border=\"1\" class=\"dataframe\">\n  <thead>\n    <tr style=\"text-align: right;\">\n      <th></th>\n      <th>support</th>\n      <th>itemsets</th>\n    </tr>\n  </thead>\n  <tbody>\n    <tr>\n      <th>0</th>\n      <td>0.396246</td>\n      <td>(Smoking)</td>\n    </tr>\n    <tr>\n      <th>1</th>\n      <td>0.117577</td>\n      <td>(DiffWalking)</td>\n    </tr>\n    <tr>\n      <th>2</th>\n      <td>0.108901</td>\n      <td>(Diabetic)</td>\n    </tr>\n    <tr>\n      <th>3</th>\n      <td>0.788135</td>\n      <td>(PhysicalActivity)</td>\n    </tr>\n    <tr>\n      <th>4</th>\n      <td>0.129741</td>\n      <td>(Asthma)</td>\n    </tr>\n    <tr>\n      <th>5</th>\n      <td>0.294451</td>\n      <td>(PhysicalActivity, Smoking)</td>\n    </tr>\n  </tbody>\n</table>\n</div>"
     },
     "execution_count": 11,
     "metadata": {},
     "output_type": "execute_result"
    }
   ],
   "source": [
    "freq_items_neg = apriori(data4, min_support=0.1, use_colnames=True, verbose=1)\n",
    "freq_items_neg.head(7)"
   ],
   "metadata": {
    "collapsed": false,
    "pycharm": {
     "name": "#%%\n"
    }
   }
  },
  {
   "cell_type": "code",
   "execution_count": 12,
   "outputs": [
    {
     "data": {
      "text/plain": "Empty DataFrame\nColumns: [antecedents, consequents, antecedent support, consequent support, support, confidence, lift, leverage, conviction]\nIndex: []",
      "text/html": "<div>\n<style scoped>\n    .dataframe tbody tr th:only-of-type {\n        vertical-align: middle;\n    }\n\n    .dataframe tbody tr th {\n        vertical-align: top;\n    }\n\n    .dataframe thead th {\n        text-align: right;\n    }\n</style>\n<table border=\"1\" class=\"dataframe\">\n  <thead>\n    <tr style=\"text-align: right;\">\n      <th></th>\n      <th>antecedents</th>\n      <th>consequents</th>\n      <th>antecedent support</th>\n      <th>consequent support</th>\n      <th>support</th>\n      <th>confidence</th>\n      <th>lift</th>\n      <th>leverage</th>\n      <th>conviction</th>\n    </tr>\n  </thead>\n  <tbody>\n  </tbody>\n</table>\n</div>"
     },
     "execution_count": 12,
     "metadata": {},
     "output_type": "execute_result"
    }
   ],
   "source": [
    "rules = association_rules(freq_items_all, metric=\"confidence\", min_threshold=0.9)\n",
    "rules.head()"
   ],
   "metadata": {
    "collapsed": false,
    "pycharm": {
     "name": "#%%\n"
    }
   }
  },
  {
   "cell_type": "code",
   "execution_count": 13,
   "outputs": [
    {
     "data": {
      "text/plain": "        HeartDisease  Smoking  AlcoholDrinking  Stroke  DiffWalking  Diabetic  \\\n0                  0        1                0       0            0         1   \n1                  0        0                0       1            0         0   \n2                  0        1                0       0            0         1   \n3                  0        0                0       0            0         0   \n4                  0        0                0       0            1         0   \n...              ...      ...              ...     ...          ...       ...   \n319790             1        1                0       0            1         1   \n319791             0        1                0       0            0         0   \n319792             0        0                0       0            0         0   \n319793             0        0                0       0            0         0   \n319794             0        0                0       0            0         0   \n\n        PhysicalActivity  Asthma  KidneyDisease  SkinCancer  ...  Race_Black  \\\n0                      1       1              0           1  ...           0   \n1                      1       0              0           0  ...           0   \n2                      1       1              0           0  ...           0   \n3                      0       0              0           1  ...           0   \n4                      1       0              0           0  ...           0   \n...                  ...     ...            ...         ...  ...         ...   \n319790                 0       1              0           0  ...           0   \n319791                 1       1              0           0  ...           0   \n319792                 1       0              0           0  ...           0   \n319793                 0       0              0           0  ...           0   \n319794                 1       0              0           0  ...           0   \n\n        Race_Hispanic  Race_Other  Race_White  GenHealth_Fair  GenHealth_Good  \\\n0                   0           0           1               0               0   \n1                   0           0           1               0               0   \n2                   0           0           1               1               0   \n3                   0           0           1               0               1   \n4                   0           0           1               0               0   \n...               ...         ...         ...             ...             ...   \n319790              1           0           0               1               0   \n319791              1           0           0               0               0   \n319792              1           0           0               0               1   \n319793              1           0           0               0               1   \n319794              1           0           0               0               1   \n\n        GenHealth_Poor  GenHealth_Very good  SleepTime_Normal  SleepTime_High  \n0                    0                    1                 0               0  \n1                    0                    1                 0               0  \n2                    0                    0                 1               0  \n3                    0                    0                 0               0  \n4                    0                    1                 1               0  \n...                ...                  ...               ...             ...  \n319790               0                    0                 0               0  \n319791               0                    1                 0               0  \n319792               0                    0                 0               0  \n319793               0                    0                 0               1  \n319794               0                    0                 1               0  \n\n[319795 rows x 37 columns]",
      "text/html": "<div>\n<style scoped>\n    .dataframe tbody tr th:only-of-type {\n        vertical-align: middle;\n    }\n\n    .dataframe tbody tr th {\n        vertical-align: top;\n    }\n\n    .dataframe thead th {\n        text-align: right;\n    }\n</style>\n<table border=\"1\" class=\"dataframe\">\n  <thead>\n    <tr style=\"text-align: right;\">\n      <th></th>\n      <th>HeartDisease</th>\n      <th>Smoking</th>\n      <th>AlcoholDrinking</th>\n      <th>Stroke</th>\n      <th>DiffWalking</th>\n      <th>Diabetic</th>\n      <th>PhysicalActivity</th>\n      <th>Asthma</th>\n      <th>KidneyDisease</th>\n      <th>SkinCancer</th>\n      <th>...</th>\n      <th>Race_Black</th>\n      <th>Race_Hispanic</th>\n      <th>Race_Other</th>\n      <th>Race_White</th>\n      <th>GenHealth_Fair</th>\n      <th>GenHealth_Good</th>\n      <th>GenHealth_Poor</th>\n      <th>GenHealth_Very good</th>\n      <th>SleepTime_Normal</th>\n      <th>SleepTime_High</th>\n    </tr>\n  </thead>\n  <tbody>\n    <tr>\n      <th>0</th>\n      <td>0</td>\n      <td>1</td>\n      <td>0</td>\n      <td>0</td>\n      <td>0</td>\n      <td>1</td>\n      <td>1</td>\n      <td>1</td>\n      <td>0</td>\n      <td>1</td>\n      <td>...</td>\n      <td>0</td>\n      <td>0</td>\n      <td>0</td>\n      <td>1</td>\n      <td>0</td>\n      <td>0</td>\n      <td>0</td>\n      <td>1</td>\n      <td>0</td>\n      <td>0</td>\n    </tr>\n    <tr>\n      <th>1</th>\n      <td>0</td>\n      <td>0</td>\n      <td>0</td>\n      <td>1</td>\n      <td>0</td>\n      <td>0</td>\n      <td>1</td>\n      <td>0</td>\n      <td>0</td>\n      <td>0</td>\n      <td>...</td>\n      <td>0</td>\n      <td>0</td>\n      <td>0</td>\n      <td>1</td>\n      <td>0</td>\n      <td>0</td>\n      <td>0</td>\n      <td>1</td>\n      <td>0</td>\n      <td>0</td>\n    </tr>\n    <tr>\n      <th>2</th>\n      <td>0</td>\n      <td>1</td>\n      <td>0</td>\n      <td>0</td>\n      <td>0</td>\n      <td>1</td>\n      <td>1</td>\n      <td>1</td>\n      <td>0</td>\n      <td>0</td>\n      <td>...</td>\n      <td>0</td>\n      <td>0</td>\n      <td>0</td>\n      <td>1</td>\n      <td>1</td>\n      <td>0</td>\n      <td>0</td>\n      <td>0</td>\n      <td>1</td>\n      <td>0</td>\n    </tr>\n    <tr>\n      <th>3</th>\n      <td>0</td>\n      <td>0</td>\n      <td>0</td>\n      <td>0</td>\n      <td>0</td>\n      <td>0</td>\n      <td>0</td>\n      <td>0</td>\n      <td>0</td>\n      <td>1</td>\n      <td>...</td>\n      <td>0</td>\n      <td>0</td>\n      <td>0</td>\n      <td>1</td>\n      <td>0</td>\n      <td>1</td>\n      <td>0</td>\n      <td>0</td>\n      <td>0</td>\n      <td>0</td>\n    </tr>\n    <tr>\n      <th>4</th>\n      <td>0</td>\n      <td>0</td>\n      <td>0</td>\n      <td>0</td>\n      <td>1</td>\n      <td>0</td>\n      <td>1</td>\n      <td>0</td>\n      <td>0</td>\n      <td>0</td>\n      <td>...</td>\n      <td>0</td>\n      <td>0</td>\n      <td>0</td>\n      <td>1</td>\n      <td>0</td>\n      <td>0</td>\n      <td>0</td>\n      <td>1</td>\n      <td>1</td>\n      <td>0</td>\n    </tr>\n    <tr>\n      <th>...</th>\n      <td>...</td>\n      <td>...</td>\n      <td>...</td>\n      <td>...</td>\n      <td>...</td>\n      <td>...</td>\n      <td>...</td>\n      <td>...</td>\n      <td>...</td>\n      <td>...</td>\n      <td>...</td>\n      <td>...</td>\n      <td>...</td>\n      <td>...</td>\n      <td>...</td>\n      <td>...</td>\n      <td>...</td>\n      <td>...</td>\n      <td>...</td>\n      <td>...</td>\n      <td>...</td>\n    </tr>\n    <tr>\n      <th>319790</th>\n      <td>1</td>\n      <td>1</td>\n      <td>0</td>\n      <td>0</td>\n      <td>1</td>\n      <td>1</td>\n      <td>0</td>\n      <td>1</td>\n      <td>0</td>\n      <td>0</td>\n      <td>...</td>\n      <td>0</td>\n      <td>1</td>\n      <td>0</td>\n      <td>0</td>\n      <td>1</td>\n      <td>0</td>\n      <td>0</td>\n      <td>0</td>\n      <td>0</td>\n      <td>0</td>\n    </tr>\n    <tr>\n      <th>319791</th>\n      <td>0</td>\n      <td>1</td>\n      <td>0</td>\n      <td>0</td>\n      <td>0</td>\n      <td>0</td>\n      <td>1</td>\n      <td>1</td>\n      <td>0</td>\n      <td>0</td>\n      <td>...</td>\n      <td>0</td>\n      <td>1</td>\n      <td>0</td>\n      <td>0</td>\n      <td>0</td>\n      <td>0</td>\n      <td>0</td>\n      <td>1</td>\n      <td>0</td>\n      <td>0</td>\n    </tr>\n    <tr>\n      <th>319792</th>\n      <td>0</td>\n      <td>0</td>\n      <td>0</td>\n      <td>0</td>\n      <td>0</td>\n      <td>0</td>\n      <td>1</td>\n      <td>0</td>\n      <td>0</td>\n      <td>0</td>\n      <td>...</td>\n      <td>0</td>\n      <td>1</td>\n      <td>0</td>\n      <td>0</td>\n      <td>0</td>\n      <td>1</td>\n      <td>0</td>\n      <td>0</td>\n      <td>0</td>\n      <td>0</td>\n    </tr>\n    <tr>\n      <th>319793</th>\n      <td>0</td>\n      <td>0</td>\n      <td>0</td>\n      <td>0</td>\n      <td>0</td>\n      <td>0</td>\n      <td>0</td>\n      <td>0</td>\n      <td>0</td>\n      <td>0</td>\n      <td>...</td>\n      <td>0</td>\n      <td>1</td>\n      <td>0</td>\n      <td>0</td>\n      <td>0</td>\n      <td>1</td>\n      <td>0</td>\n      <td>0</td>\n      <td>0</td>\n      <td>1</td>\n    </tr>\n    <tr>\n      <th>319794</th>\n      <td>0</td>\n      <td>0</td>\n      <td>0</td>\n      <td>0</td>\n      <td>0</td>\n      <td>0</td>\n      <td>1</td>\n      <td>0</td>\n      <td>0</td>\n      <td>0</td>\n      <td>...</td>\n      <td>0</td>\n      <td>1</td>\n      <td>0</td>\n      <td>0</td>\n      <td>0</td>\n      <td>1</td>\n      <td>0</td>\n      <td>0</td>\n      <td>1</td>\n      <td>0</td>\n    </tr>\n  </tbody>\n</table>\n<p>319795 rows × 37 columns</p>\n</div>"
     },
     "execution_count": 13,
     "metadata": {},
     "output_type": "execute_result"
    }
   ],
   "source": [
    "data5 = pd.get_dummies(data.drop(['PhysicalHealth', 'MentalHealth'], axis=1), drop_first=True)\n",
    "\n",
    "data5"
   ],
   "metadata": {
    "collapsed": false,
    "pycharm": {
     "name": "#%%\n"
    }
   }
  },
  {
   "cell_type": "code",
   "execution_count": 14,
   "outputs": [
    {
     "data": {
      "text/plain": "        HeartDisease  Smoking  AlcoholDrinking  Stroke  DiffWalking  Diabetic  \\\n5                  1        1                0       0            1         0   \n10                 1        1                0       0            1         1   \n35                 1        1                0       1            1         1   \n42                 1        0                0       0            1         1   \n43                 1        1                0       0            1         1   \n...              ...      ...              ...     ...          ...       ...   \n319765             1        0                0       1            1         1   \n319767             1        1                0       0            1         1   \n319781             1        1                0       0            0         0   \n319786             1        1                0       0            0         1   \n319790             1        1                0       0            1         1   \n\n        PhysicalActivity  Asthma  KidneyDisease  SkinCancer  ...  Race_Black  \\\n5                      0       0              0           0  ...           1   \n10                     0       1              0           0  ...           0   \n35                     1       0              0           1  ...           0   \n42                     0       0              0           1  ...           0   \n43                     1       0              1           0  ...           0   \n...                  ...     ...            ...         ...  ...         ...   \n319765                 1       1              0           0  ...           0   \n319767                 1       0              0           0  ...           0   \n319781                 1       0              0           0  ...           0   \n319786                 1       1              0           0  ...           0   \n319790                 0       1              0           0  ...           0   \n\n        Race_Hispanic  Race_Other  Race_White  GenHealth_Fair  GenHealth_Good  \\\n5                   0           0           0               1               0   \n10                  0           0           1               0               0   \n35                  0           0           1               0               0   \n42                  0           0           1               0               1   \n43                  0           0           1               1               0   \n...               ...         ...         ...             ...             ...   \n319765              1           0           0               0               0   \n319767              1           0           0               0               1   \n319781              1           0           0               0               0   \n319786              1           0           0               0               0   \n319790              1           0           0               1               0   \n\n        GenHealth_Poor  GenHealth_Very good  SleepTime_Normal  SleepTime_High  \n5                    0                    0                 0               1  \n10                   1                    0                 0               1  \n35                   1                    0                 0               0  \n42                   0                    0                 0               0  \n43                   0                    0                 1               0  \n...                ...                  ...               ...             ...  \n319765               1                    0                 0               0  \n319767               0                    0                 1               0  \n319781               0                    1                 0               0  \n319786               0                    1                 1               0  \n319790               0                    0                 0               0  \n\n[27373 rows x 37 columns]",
      "text/html": "<div>\n<style scoped>\n    .dataframe tbody tr th:only-of-type {\n        vertical-align: middle;\n    }\n\n    .dataframe tbody tr th {\n        vertical-align: top;\n    }\n\n    .dataframe thead th {\n        text-align: right;\n    }\n</style>\n<table border=\"1\" class=\"dataframe\">\n  <thead>\n    <tr style=\"text-align: right;\">\n      <th></th>\n      <th>HeartDisease</th>\n      <th>Smoking</th>\n      <th>AlcoholDrinking</th>\n      <th>Stroke</th>\n      <th>DiffWalking</th>\n      <th>Diabetic</th>\n      <th>PhysicalActivity</th>\n      <th>Asthma</th>\n      <th>KidneyDisease</th>\n      <th>SkinCancer</th>\n      <th>...</th>\n      <th>Race_Black</th>\n      <th>Race_Hispanic</th>\n      <th>Race_Other</th>\n      <th>Race_White</th>\n      <th>GenHealth_Fair</th>\n      <th>GenHealth_Good</th>\n      <th>GenHealth_Poor</th>\n      <th>GenHealth_Very good</th>\n      <th>SleepTime_Normal</th>\n      <th>SleepTime_High</th>\n    </tr>\n  </thead>\n  <tbody>\n    <tr>\n      <th>5</th>\n      <td>1</td>\n      <td>1</td>\n      <td>0</td>\n      <td>0</td>\n      <td>1</td>\n      <td>0</td>\n      <td>0</td>\n      <td>0</td>\n      <td>0</td>\n      <td>0</td>\n      <td>...</td>\n      <td>1</td>\n      <td>0</td>\n      <td>0</td>\n      <td>0</td>\n      <td>1</td>\n      <td>0</td>\n      <td>0</td>\n      <td>0</td>\n      <td>0</td>\n      <td>1</td>\n    </tr>\n    <tr>\n      <th>10</th>\n      <td>1</td>\n      <td>1</td>\n      <td>0</td>\n      <td>0</td>\n      <td>1</td>\n      <td>1</td>\n      <td>0</td>\n      <td>1</td>\n      <td>0</td>\n      <td>0</td>\n      <td>...</td>\n      <td>0</td>\n      <td>0</td>\n      <td>0</td>\n      <td>1</td>\n      <td>0</td>\n      <td>0</td>\n      <td>1</td>\n      <td>0</td>\n      <td>0</td>\n      <td>1</td>\n    </tr>\n    <tr>\n      <th>35</th>\n      <td>1</td>\n      <td>1</td>\n      <td>0</td>\n      <td>1</td>\n      <td>1</td>\n      <td>1</td>\n      <td>1</td>\n      <td>0</td>\n      <td>0</td>\n      <td>1</td>\n      <td>...</td>\n      <td>0</td>\n      <td>0</td>\n      <td>0</td>\n      <td>1</td>\n      <td>0</td>\n      <td>0</td>\n      <td>1</td>\n      <td>0</td>\n      <td>0</td>\n      <td>0</td>\n    </tr>\n    <tr>\n      <th>42</th>\n      <td>1</td>\n      <td>0</td>\n      <td>0</td>\n      <td>0</td>\n      <td>1</td>\n      <td>1</td>\n      <td>0</td>\n      <td>0</td>\n      <td>0</td>\n      <td>1</td>\n      <td>...</td>\n      <td>0</td>\n      <td>0</td>\n      <td>0</td>\n      <td>1</td>\n      <td>0</td>\n      <td>1</td>\n      <td>0</td>\n      <td>0</td>\n      <td>0</td>\n      <td>0</td>\n    </tr>\n    <tr>\n      <th>43</th>\n      <td>1</td>\n      <td>1</td>\n      <td>0</td>\n      <td>0</td>\n      <td>1</td>\n      <td>1</td>\n      <td>1</td>\n      <td>0</td>\n      <td>1</td>\n      <td>0</td>\n      <td>...</td>\n      <td>0</td>\n      <td>0</td>\n      <td>0</td>\n      <td>1</td>\n      <td>1</td>\n      <td>0</td>\n      <td>0</td>\n      <td>0</td>\n      <td>1</td>\n      <td>0</td>\n    </tr>\n    <tr>\n      <th>...</th>\n      <td>...</td>\n      <td>...</td>\n      <td>...</td>\n      <td>...</td>\n      <td>...</td>\n      <td>...</td>\n      <td>...</td>\n      <td>...</td>\n      <td>...</td>\n      <td>...</td>\n      <td>...</td>\n      <td>...</td>\n      <td>...</td>\n      <td>...</td>\n      <td>...</td>\n      <td>...</td>\n      <td>...</td>\n      <td>...</td>\n      <td>...</td>\n      <td>...</td>\n      <td>...</td>\n    </tr>\n    <tr>\n      <th>319765</th>\n      <td>1</td>\n      <td>0</td>\n      <td>0</td>\n      <td>1</td>\n      <td>1</td>\n      <td>1</td>\n      <td>1</td>\n      <td>1</td>\n      <td>0</td>\n      <td>0</td>\n      <td>...</td>\n      <td>0</td>\n      <td>1</td>\n      <td>0</td>\n      <td>0</td>\n      <td>0</td>\n      <td>0</td>\n      <td>1</td>\n      <td>0</td>\n      <td>0</td>\n      <td>0</td>\n    </tr>\n    <tr>\n      <th>319767</th>\n      <td>1</td>\n      <td>1</td>\n      <td>0</td>\n      <td>0</td>\n      <td>1</td>\n      <td>1</td>\n      <td>1</td>\n      <td>0</td>\n      <td>0</td>\n      <td>0</td>\n      <td>...</td>\n      <td>0</td>\n      <td>1</td>\n      <td>0</td>\n      <td>0</td>\n      <td>0</td>\n      <td>1</td>\n      <td>0</td>\n      <td>0</td>\n      <td>1</td>\n      <td>0</td>\n    </tr>\n    <tr>\n      <th>319781</th>\n      <td>1</td>\n      <td>1</td>\n      <td>0</td>\n      <td>0</td>\n      <td>0</td>\n      <td>0</td>\n      <td>1</td>\n      <td>0</td>\n      <td>0</td>\n      <td>0</td>\n      <td>...</td>\n      <td>0</td>\n      <td>1</td>\n      <td>0</td>\n      <td>0</td>\n      <td>0</td>\n      <td>0</td>\n      <td>0</td>\n      <td>1</td>\n      <td>0</td>\n      <td>0</td>\n    </tr>\n    <tr>\n      <th>319786</th>\n      <td>1</td>\n      <td>1</td>\n      <td>0</td>\n      <td>0</td>\n      <td>0</td>\n      <td>1</td>\n      <td>1</td>\n      <td>1</td>\n      <td>0</td>\n      <td>0</td>\n      <td>...</td>\n      <td>0</td>\n      <td>1</td>\n      <td>0</td>\n      <td>0</td>\n      <td>0</td>\n      <td>0</td>\n      <td>0</td>\n      <td>1</td>\n      <td>1</td>\n      <td>0</td>\n    </tr>\n    <tr>\n      <th>319790</th>\n      <td>1</td>\n      <td>1</td>\n      <td>0</td>\n      <td>0</td>\n      <td>1</td>\n      <td>1</td>\n      <td>0</td>\n      <td>1</td>\n      <td>0</td>\n      <td>0</td>\n      <td>...</td>\n      <td>0</td>\n      <td>1</td>\n      <td>0</td>\n      <td>0</td>\n      <td>1</td>\n      <td>0</td>\n      <td>0</td>\n      <td>0</td>\n      <td>0</td>\n      <td>0</td>\n    </tr>\n  </tbody>\n</table>\n<p>27373 rows × 37 columns</p>\n</div>"
     },
     "execution_count": 14,
     "metadata": {},
     "output_type": "execute_result"
    }
   ],
   "source": [
    "data6 = data5.loc[data['HeartDisease'] != 0]\n",
    "data6"
   ],
   "metadata": {
    "collapsed": false,
    "pycharm": {
     "name": "#%%\n"
    }
   }
  },
  {
   "cell_type": "code",
   "execution_count": 15,
   "outputs": [
    {
     "data": {
      "text/plain": "        HeartDisease  Smoking  AlcoholDrinking  Stroke  DiffWalking  Diabetic  \\\n0                  0        1                0       0            0         1   \n1                  0        0                0       1            0         0   \n2                  0        1                0       0            0         1   \n3                  0        0                0       0            0         0   \n4                  0        0                0       0            1         0   \n...              ...      ...              ...     ...          ...       ...   \n319789             0        0                0       0            0         0   \n319791             0        1                0       0            0         0   \n319792             0        0                0       0            0         0   \n319793             0        0                0       0            0         0   \n319794             0        0                0       0            0         0   \n\n        PhysicalActivity  Asthma  KidneyDisease  SkinCancer  ...  Race_Black  \\\n0                      1       1              0           1  ...           0   \n1                      1       0              0           0  ...           0   \n2                      1       1              0           0  ...           0   \n3                      0       0              0           1  ...           0   \n4                      1       0              0           0  ...           0   \n...                  ...     ...            ...         ...  ...         ...   \n319789                 1       0              0           0  ...           0   \n319791                 1       1              0           0  ...           0   \n319792                 1       0              0           0  ...           0   \n319793                 0       0              0           0  ...           0   \n319794                 1       0              0           0  ...           0   \n\n        Race_Hispanic  Race_Other  Race_White  GenHealth_Fair  GenHealth_Good  \\\n0                   0           0           1               0               0   \n1                   0           0           1               0               0   \n2                   0           0           1               1               0   \n3                   0           0           1               0               1   \n4                   0           0           1               0               0   \n...               ...         ...         ...             ...             ...   \n319789              1           0           0               0               0   \n319791              1           0           0               0               0   \n319792              1           0           0               0               1   \n319793              1           0           0               0               1   \n319794              1           0           0               0               1   \n\n        GenHealth_Poor  GenHealth_Very good  SleepTime_Normal  SleepTime_High  \n0                    0                    1                 0               0  \n1                    0                    1                 0               0  \n2                    0                    0                 1               0  \n3                    0                    0                 0               0  \n4                    0                    1                 1               0  \n...                ...                  ...               ...             ...  \n319789               0                    0                 1               0  \n319791               0                    1                 0               0  \n319792               0                    0                 0               0  \n319793               0                    0                 0               1  \n319794               0                    0                 1               0  \n\n[292422 rows x 37 columns]",
      "text/html": "<div>\n<style scoped>\n    .dataframe tbody tr th:only-of-type {\n        vertical-align: middle;\n    }\n\n    .dataframe tbody tr th {\n        vertical-align: top;\n    }\n\n    .dataframe thead th {\n        text-align: right;\n    }\n</style>\n<table border=\"1\" class=\"dataframe\">\n  <thead>\n    <tr style=\"text-align: right;\">\n      <th></th>\n      <th>HeartDisease</th>\n      <th>Smoking</th>\n      <th>AlcoholDrinking</th>\n      <th>Stroke</th>\n      <th>DiffWalking</th>\n      <th>Diabetic</th>\n      <th>PhysicalActivity</th>\n      <th>Asthma</th>\n      <th>KidneyDisease</th>\n      <th>SkinCancer</th>\n      <th>...</th>\n      <th>Race_Black</th>\n      <th>Race_Hispanic</th>\n      <th>Race_Other</th>\n      <th>Race_White</th>\n      <th>GenHealth_Fair</th>\n      <th>GenHealth_Good</th>\n      <th>GenHealth_Poor</th>\n      <th>GenHealth_Very good</th>\n      <th>SleepTime_Normal</th>\n      <th>SleepTime_High</th>\n    </tr>\n  </thead>\n  <tbody>\n    <tr>\n      <th>0</th>\n      <td>0</td>\n      <td>1</td>\n      <td>0</td>\n      <td>0</td>\n      <td>0</td>\n      <td>1</td>\n      <td>1</td>\n      <td>1</td>\n      <td>0</td>\n      <td>1</td>\n      <td>...</td>\n      <td>0</td>\n      <td>0</td>\n      <td>0</td>\n      <td>1</td>\n      <td>0</td>\n      <td>0</td>\n      <td>0</td>\n      <td>1</td>\n      <td>0</td>\n      <td>0</td>\n    </tr>\n    <tr>\n      <th>1</th>\n      <td>0</td>\n      <td>0</td>\n      <td>0</td>\n      <td>1</td>\n      <td>0</td>\n      <td>0</td>\n      <td>1</td>\n      <td>0</td>\n      <td>0</td>\n      <td>0</td>\n      <td>...</td>\n      <td>0</td>\n      <td>0</td>\n      <td>0</td>\n      <td>1</td>\n      <td>0</td>\n      <td>0</td>\n      <td>0</td>\n      <td>1</td>\n      <td>0</td>\n      <td>0</td>\n    </tr>\n    <tr>\n      <th>2</th>\n      <td>0</td>\n      <td>1</td>\n      <td>0</td>\n      <td>0</td>\n      <td>0</td>\n      <td>1</td>\n      <td>1</td>\n      <td>1</td>\n      <td>0</td>\n      <td>0</td>\n      <td>...</td>\n      <td>0</td>\n      <td>0</td>\n      <td>0</td>\n      <td>1</td>\n      <td>1</td>\n      <td>0</td>\n      <td>0</td>\n      <td>0</td>\n      <td>1</td>\n      <td>0</td>\n    </tr>\n    <tr>\n      <th>3</th>\n      <td>0</td>\n      <td>0</td>\n      <td>0</td>\n      <td>0</td>\n      <td>0</td>\n      <td>0</td>\n      <td>0</td>\n      <td>0</td>\n      <td>0</td>\n      <td>1</td>\n      <td>...</td>\n      <td>0</td>\n      <td>0</td>\n      <td>0</td>\n      <td>1</td>\n      <td>0</td>\n      <td>1</td>\n      <td>0</td>\n      <td>0</td>\n      <td>0</td>\n      <td>0</td>\n    </tr>\n    <tr>\n      <th>4</th>\n      <td>0</td>\n      <td>0</td>\n      <td>0</td>\n      <td>0</td>\n      <td>1</td>\n      <td>0</td>\n      <td>1</td>\n      <td>0</td>\n      <td>0</td>\n      <td>0</td>\n      <td>...</td>\n      <td>0</td>\n      <td>0</td>\n      <td>0</td>\n      <td>1</td>\n      <td>0</td>\n      <td>0</td>\n      <td>0</td>\n      <td>1</td>\n      <td>1</td>\n      <td>0</td>\n    </tr>\n    <tr>\n      <th>...</th>\n      <td>...</td>\n      <td>...</td>\n      <td>...</td>\n      <td>...</td>\n      <td>...</td>\n      <td>...</td>\n      <td>...</td>\n      <td>...</td>\n      <td>...</td>\n      <td>...</td>\n      <td>...</td>\n      <td>...</td>\n      <td>...</td>\n      <td>...</td>\n      <td>...</td>\n      <td>...</td>\n      <td>...</td>\n      <td>...</td>\n      <td>...</td>\n      <td>...</td>\n      <td>...</td>\n    </tr>\n    <tr>\n      <th>319789</th>\n      <td>0</td>\n      <td>0</td>\n      <td>0</td>\n      <td>0</td>\n      <td>0</td>\n      <td>0</td>\n      <td>1</td>\n      <td>0</td>\n      <td>0</td>\n      <td>0</td>\n      <td>...</td>\n      <td>0</td>\n      <td>1</td>\n      <td>0</td>\n      <td>0</td>\n      <td>0</td>\n      <td>0</td>\n      <td>0</td>\n      <td>0</td>\n      <td>1</td>\n      <td>0</td>\n    </tr>\n    <tr>\n      <th>319791</th>\n      <td>0</td>\n      <td>1</td>\n      <td>0</td>\n      <td>0</td>\n      <td>0</td>\n      <td>0</td>\n      <td>1</td>\n      <td>1</td>\n      <td>0</td>\n      <td>0</td>\n      <td>...</td>\n      <td>0</td>\n      <td>1</td>\n      <td>0</td>\n      <td>0</td>\n      <td>0</td>\n      <td>0</td>\n      <td>0</td>\n      <td>1</td>\n      <td>0</td>\n      <td>0</td>\n    </tr>\n    <tr>\n      <th>319792</th>\n      <td>0</td>\n      <td>0</td>\n      <td>0</td>\n      <td>0</td>\n      <td>0</td>\n      <td>0</td>\n      <td>1</td>\n      <td>0</td>\n      <td>0</td>\n      <td>0</td>\n      <td>...</td>\n      <td>0</td>\n      <td>1</td>\n      <td>0</td>\n      <td>0</td>\n      <td>0</td>\n      <td>1</td>\n      <td>0</td>\n      <td>0</td>\n      <td>0</td>\n      <td>0</td>\n    </tr>\n    <tr>\n      <th>319793</th>\n      <td>0</td>\n      <td>0</td>\n      <td>0</td>\n      <td>0</td>\n      <td>0</td>\n      <td>0</td>\n      <td>0</td>\n      <td>0</td>\n      <td>0</td>\n      <td>0</td>\n      <td>...</td>\n      <td>0</td>\n      <td>1</td>\n      <td>0</td>\n      <td>0</td>\n      <td>0</td>\n      <td>1</td>\n      <td>0</td>\n      <td>0</td>\n      <td>0</td>\n      <td>1</td>\n    </tr>\n    <tr>\n      <th>319794</th>\n      <td>0</td>\n      <td>0</td>\n      <td>0</td>\n      <td>0</td>\n      <td>0</td>\n      <td>0</td>\n      <td>1</td>\n      <td>0</td>\n      <td>0</td>\n      <td>0</td>\n      <td>...</td>\n      <td>0</td>\n      <td>1</td>\n      <td>0</td>\n      <td>0</td>\n      <td>0</td>\n      <td>1</td>\n      <td>0</td>\n      <td>0</td>\n      <td>1</td>\n      <td>0</td>\n    </tr>\n  </tbody>\n</table>\n<p>292422 rows × 37 columns</p>\n</div>"
     },
     "execution_count": 15,
     "metadata": {},
     "output_type": "execute_result"
    }
   ],
   "source": [
    "data7 = data5.loc[data['HeartDisease'] != 1]\n",
    "data7"
   ],
   "metadata": {
    "collapsed": false,
    "pycharm": {
     "name": "#%%\n"
    }
   }
  },
  {
   "cell_type": "code",
   "execution_count": 21,
   "outputs": [
    {
     "name": "stdout",
     "output_type": "stream",
     "text": [
      "Processing 25 combinations | Sampling itemset size 54\n"
     ]
    },
    {
     "data": {
      "text/plain": "    support            itemsets\n0  0.412477           (Smoking)\n1  0.138870       (DiffWalking)\n2  0.127588          (Diabetic)\n3  0.775362  (PhysicalActivity)\n4  0.134061            (Asthma)\n5  0.305752             (BMI_1)\n6  0.357588             (BMI_2)",
      "text/html": "<div>\n<style scoped>\n    .dataframe tbody tr th:only-of-type {\n        vertical-align: middle;\n    }\n\n    .dataframe tbody tr th {\n        vertical-align: top;\n    }\n\n    .dataframe thead th {\n        text-align: right;\n    }\n</style>\n<table border=\"1\" class=\"dataframe\">\n  <thead>\n    <tr style=\"text-align: right;\">\n      <th></th>\n      <th>support</th>\n      <th>itemsets</th>\n    </tr>\n  </thead>\n  <tbody>\n    <tr>\n      <th>0</th>\n      <td>0.412477</td>\n      <td>(Smoking)</td>\n    </tr>\n    <tr>\n      <th>1</th>\n      <td>0.138870</td>\n      <td>(DiffWalking)</td>\n    </tr>\n    <tr>\n      <th>2</th>\n      <td>0.127588</td>\n      <td>(Diabetic)</td>\n    </tr>\n    <tr>\n      <th>3</th>\n      <td>0.775362</td>\n      <td>(PhysicalActivity)</td>\n    </tr>\n    <tr>\n      <th>4</th>\n      <td>0.134061</td>\n      <td>(Asthma)</td>\n    </tr>\n    <tr>\n      <th>5</th>\n      <td>0.305752</td>\n      <td>(BMI_1)</td>\n    </tr>\n    <tr>\n      <th>6</th>\n      <td>0.357588</td>\n      <td>(BMI_2)</td>\n    </tr>\n  </tbody>\n</table>\n</div>"
     },
     "execution_count": 21,
     "metadata": {},
     "output_type": "execute_result"
    }
   ],
   "source": [
    "freq_items_true_all = apriori(data5, min_support=0.1, use_colnames=True, verbose=1)\n",
    "freq_items_true_all.head(7)"
   ],
   "metadata": {
    "collapsed": false,
    "pycharm": {
     "name": "#%%\n"
    }
   }
  },
  {
   "cell_type": "code",
   "execution_count": 22,
   "outputs": [
    {
     "name": "stdout",
     "output_type": "stream",
     "text": [
      "Processing 144 combinations | Sampling itemset size 65\n"
     ]
    },
    {
     "data": {
      "text/plain": "    support            itemsets\n0  1.000000      (HeartDisease)\n1  0.585869           (Smoking)\n2  0.160340            (Stroke)\n3  0.366346       (DiffWalking)\n4  0.327220          (Diabetic)\n5  0.638914  (PhysicalActivity)\n6  0.180214            (Asthma)",
      "text/html": "<div>\n<style scoped>\n    .dataframe tbody tr th:only-of-type {\n        vertical-align: middle;\n    }\n\n    .dataframe tbody tr th {\n        vertical-align: top;\n    }\n\n    .dataframe thead th {\n        text-align: right;\n    }\n</style>\n<table border=\"1\" class=\"dataframe\">\n  <thead>\n    <tr style=\"text-align: right;\">\n      <th></th>\n      <th>support</th>\n      <th>itemsets</th>\n    </tr>\n  </thead>\n  <tbody>\n    <tr>\n      <th>0</th>\n      <td>1.000000</td>\n      <td>(HeartDisease)</td>\n    </tr>\n    <tr>\n      <th>1</th>\n      <td>0.585869</td>\n      <td>(Smoking)</td>\n    </tr>\n    <tr>\n      <th>2</th>\n      <td>0.160340</td>\n      <td>(Stroke)</td>\n    </tr>\n    <tr>\n      <th>3</th>\n      <td>0.366346</td>\n      <td>(DiffWalking)</td>\n    </tr>\n    <tr>\n      <th>4</th>\n      <td>0.327220</td>\n      <td>(Diabetic)</td>\n    </tr>\n    <tr>\n      <th>5</th>\n      <td>0.638914</td>\n      <td>(PhysicalActivity)</td>\n    </tr>\n    <tr>\n      <th>6</th>\n      <td>0.180214</td>\n      <td>(Asthma)</td>\n    </tr>\n  </tbody>\n</table>\n</div>"
     },
     "execution_count": 22,
     "metadata": {},
     "output_type": "execute_result"
    }
   ],
   "source": [
    "freq_items_true_pos = apriori(data6, min_support=0.1, use_colnames=True, verbose=1)\n",
    "freq_items_true_pos.head(7)"
   ],
   "metadata": {
    "collapsed": false,
    "pycharm": {
     "name": "#%%\n"
    }
   }
  },
  {
   "cell_type": "code",
   "execution_count": 25,
   "outputs": [
    {
     "name": "stdout",
     "output_type": "stream",
     "text": [
      "Processing 30 combinations | Sampling itemset size 54\n"
     ]
    },
    {
     "data": {
      "text/plain": "    support            itemsets\n0  0.396246           (Smoking)\n1  0.117577       (DiffWalking)\n2  0.108901          (Diabetic)\n3  0.788135  (PhysicalActivity)\n4  0.129741            (Asthma)\n5  0.312695             (BMI_1)\n6  0.356881             (BMI_2)",
      "text/html": "<div>\n<style scoped>\n    .dataframe tbody tr th:only-of-type {\n        vertical-align: middle;\n    }\n\n    .dataframe tbody tr th {\n        vertical-align: top;\n    }\n\n    .dataframe thead th {\n        text-align: right;\n    }\n</style>\n<table border=\"1\" class=\"dataframe\">\n  <thead>\n    <tr style=\"text-align: right;\">\n      <th></th>\n      <th>support</th>\n      <th>itemsets</th>\n    </tr>\n  </thead>\n  <tbody>\n    <tr>\n      <th>0</th>\n      <td>0.396246</td>\n      <td>(Smoking)</td>\n    </tr>\n    <tr>\n      <th>1</th>\n      <td>0.117577</td>\n      <td>(DiffWalking)</td>\n    </tr>\n    <tr>\n      <th>2</th>\n      <td>0.108901</td>\n      <td>(Diabetic)</td>\n    </tr>\n    <tr>\n      <th>3</th>\n      <td>0.788135</td>\n      <td>(PhysicalActivity)</td>\n    </tr>\n    <tr>\n      <th>4</th>\n      <td>0.129741</td>\n      <td>(Asthma)</td>\n    </tr>\n    <tr>\n      <th>5</th>\n      <td>0.312695</td>\n      <td>(BMI_1)</td>\n    </tr>\n    <tr>\n      <th>6</th>\n      <td>0.356881</td>\n      <td>(BMI_2)</td>\n    </tr>\n  </tbody>\n</table>\n</div>"
     },
     "execution_count": 25,
     "metadata": {},
     "output_type": "execute_result"
    }
   ],
   "source": [
    "freq_items_true_neg = apriori(data7, min_support=0.1, use_colnames=True, verbose=1)\n",
    "freq_items_true_neg.head(7)"
   ],
   "metadata": {
    "collapsed": false,
    "pycharm": {
     "name": "#%%\n"
    }
   }
  },
  {
   "cell_type": "code",
   "execution_count": 19,
   "outputs": [
    {
     "data": {
      "text/plain": "          antecedents         consequents  antecedent support  \\\n0  (PhysicalActivity)           (Smoking)            0.775362   \n1           (Smoking)  (PhysicalActivity)            0.412477   \n2           (Smoking)             (BMI_1)            0.412477   \n3             (BMI_1)           (Smoking)            0.305752   \n4           (Smoking)             (BMI_2)            0.412477   \n\n   consequent support   support  confidence      lift  leverage  conviction  \n0            0.412477  0.299855    0.386728  0.937576 -0.019964    0.958015  \n1            0.775362  0.299855    0.726961  0.937576 -0.019964    0.822732  \n2            0.305752  0.118517    0.287329  0.939745 -0.007599    0.974149  \n3            0.412477  0.118517    0.387623  0.939745 -0.007599    0.959414  \n4            0.357588  0.150015    0.363693  1.017071  0.002518    1.009594  ",
      "text/html": "<div>\n<style scoped>\n    .dataframe tbody tr th:only-of-type {\n        vertical-align: middle;\n    }\n\n    .dataframe tbody tr th {\n        vertical-align: top;\n    }\n\n    .dataframe thead th {\n        text-align: right;\n    }\n</style>\n<table border=\"1\" class=\"dataframe\">\n  <thead>\n    <tr style=\"text-align: right;\">\n      <th></th>\n      <th>antecedents</th>\n      <th>consequents</th>\n      <th>antecedent support</th>\n      <th>consequent support</th>\n      <th>support</th>\n      <th>confidence</th>\n      <th>lift</th>\n      <th>leverage</th>\n      <th>conviction</th>\n    </tr>\n  </thead>\n  <tbody>\n    <tr>\n      <th>0</th>\n      <td>(PhysicalActivity)</td>\n      <td>(Smoking)</td>\n      <td>0.775362</td>\n      <td>0.412477</td>\n      <td>0.299855</td>\n      <td>0.386728</td>\n      <td>0.937576</td>\n      <td>-0.019964</td>\n      <td>0.958015</td>\n    </tr>\n    <tr>\n      <th>1</th>\n      <td>(Smoking)</td>\n      <td>(PhysicalActivity)</td>\n      <td>0.412477</td>\n      <td>0.775362</td>\n      <td>0.299855</td>\n      <td>0.726961</td>\n      <td>0.937576</td>\n      <td>-0.019964</td>\n      <td>0.822732</td>\n    </tr>\n    <tr>\n      <th>2</th>\n      <td>(Smoking)</td>\n      <td>(BMI_1)</td>\n      <td>0.412477</td>\n      <td>0.305752</td>\n      <td>0.118517</td>\n      <td>0.287329</td>\n      <td>0.939745</td>\n      <td>-0.007599</td>\n      <td>0.974149</td>\n    </tr>\n    <tr>\n      <th>3</th>\n      <td>(BMI_1)</td>\n      <td>(Smoking)</td>\n      <td>0.305752</td>\n      <td>0.412477</td>\n      <td>0.118517</td>\n      <td>0.387623</td>\n      <td>0.939745</td>\n      <td>-0.007599</td>\n      <td>0.959414</td>\n    </tr>\n    <tr>\n      <th>4</th>\n      <td>(Smoking)</td>\n      <td>(BMI_2)</td>\n      <td>0.412477</td>\n      <td>0.357588</td>\n      <td>0.150015</td>\n      <td>0.363693</td>\n      <td>1.017071</td>\n      <td>0.002518</td>\n      <td>1.009594</td>\n    </tr>\n  </tbody>\n</table>\n</div>"
     },
     "execution_count": 19,
     "metadata": {},
     "output_type": "execute_result"
    }
   ],
   "source": [
    "rules = association_rules(freq_items_true_all, metric=\"confidence\", min_threshold=0.1)\n",
    "rules.head()"
   ],
   "metadata": {
    "collapsed": false,
    "pycharm": {
     "name": "#%%\n"
    }
   }
  },
  {
   "cell_type": "code",
   "execution_count": 20,
   "outputs": [
    {
     "data": {
      "text/plain": "      antecedents     consequents  antecedent support  consequent support  \\\n0  (HeartDisease)       (Smoking)            1.000000            0.585869   \n1       (Smoking)  (HeartDisease)            0.585869            1.000000   \n2  (HeartDisease)        (Stroke)            1.000000            0.160340   \n3        (Stroke)  (HeartDisease)            0.160340            1.000000   \n4  (HeartDisease)   (DiffWalking)            1.000000            0.366346   \n\n    support  confidence  lift  leverage  conviction  \n0  0.585869    0.585869   1.0       0.0         1.0  \n1  0.585869    1.000000   1.0       0.0         inf  \n2  0.160340    0.160340   1.0       0.0         1.0  \n3  0.160340    1.000000   1.0       0.0         inf  \n4  0.366346    0.366346   1.0       0.0         1.0  ",
      "text/html": "<div>\n<style scoped>\n    .dataframe tbody tr th:only-of-type {\n        vertical-align: middle;\n    }\n\n    .dataframe tbody tr th {\n        vertical-align: top;\n    }\n\n    .dataframe thead th {\n        text-align: right;\n    }\n</style>\n<table border=\"1\" class=\"dataframe\">\n  <thead>\n    <tr style=\"text-align: right;\">\n      <th></th>\n      <th>antecedents</th>\n      <th>consequents</th>\n      <th>antecedent support</th>\n      <th>consequent support</th>\n      <th>support</th>\n      <th>confidence</th>\n      <th>lift</th>\n      <th>leverage</th>\n      <th>conviction</th>\n    </tr>\n  </thead>\n  <tbody>\n    <tr>\n      <th>0</th>\n      <td>(HeartDisease)</td>\n      <td>(Smoking)</td>\n      <td>1.000000</td>\n      <td>0.585869</td>\n      <td>0.585869</td>\n      <td>0.585869</td>\n      <td>1.0</td>\n      <td>0.0</td>\n      <td>1.0</td>\n    </tr>\n    <tr>\n      <th>1</th>\n      <td>(Smoking)</td>\n      <td>(HeartDisease)</td>\n      <td>0.585869</td>\n      <td>1.000000</td>\n      <td>0.585869</td>\n      <td>1.000000</td>\n      <td>1.0</td>\n      <td>0.0</td>\n      <td>inf</td>\n    </tr>\n    <tr>\n      <th>2</th>\n      <td>(HeartDisease)</td>\n      <td>(Stroke)</td>\n      <td>1.000000</td>\n      <td>0.160340</td>\n      <td>0.160340</td>\n      <td>0.160340</td>\n      <td>1.0</td>\n      <td>0.0</td>\n      <td>1.0</td>\n    </tr>\n    <tr>\n      <th>3</th>\n      <td>(Stroke)</td>\n      <td>(HeartDisease)</td>\n      <td>0.160340</td>\n      <td>1.000000</td>\n      <td>0.160340</td>\n      <td>1.000000</td>\n      <td>1.0</td>\n      <td>0.0</td>\n      <td>inf</td>\n    </tr>\n    <tr>\n      <th>4</th>\n      <td>(HeartDisease)</td>\n      <td>(DiffWalking)</td>\n      <td>1.000000</td>\n      <td>0.366346</td>\n      <td>0.366346</td>\n      <td>0.366346</td>\n      <td>1.0</td>\n      <td>0.0</td>\n      <td>1.0</td>\n    </tr>\n  </tbody>\n</table>\n</div>"
     },
     "execution_count": 20,
     "metadata": {},
     "output_type": "execute_result"
    }
   ],
   "source": [
    "rules = association_rules(freq_items_true_pos, metric=\"confidence\", min_threshold=0.1)\n",
    "rules.head()"
   ],
   "metadata": {
    "collapsed": false,
    "pycharm": {
     "name": "#%%\n"
    }
   }
  }
 ],
 "metadata": {
  "kernelspec": {
   "display_name": "Python 3",
   "language": "python",
   "name": "python3"
  },
  "language_info": {
   "codemirror_mode": {
    "name": "ipython",
    "version": 2
   },
   "file_extension": ".py",
   "mimetype": "text/x-python",
   "name": "python",
   "nbconvert_exporter": "python",
   "pygments_lexer": "ipython2",
   "version": "2.7.6"
  }
 },
 "nbformat": 4,
 "nbformat_minor": 0
}