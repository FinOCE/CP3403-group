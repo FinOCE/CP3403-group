{
 "cells": [
  {
   "cell_type": "code",
   "execution_count": 1,
   "metadata": {},
   "outputs": [],
   "source": [
    "import pandas as pd"
   ]
  },
  {
   "cell_type": "code",
   "execution_count": 2,
   "outputs": [
    {
     "data": {
      "text/plain": "              MMSI         BaseDateTime       LAT        LON  SOG    COG  \\\n0        338325166  2021-01-01T00:00:20  28.08771  -82.77474  0.0    0.0   \n1        368163740  2021-01-01T00:00:18  26.10727  -80.12551  0.0  360.0   \n2        366811570  2021-01-01T00:00:23  30.66150  -88.03264  0.0  196.0   \n3        368140750  2021-01-01T00:00:24  30.23140  -93.25791  0.0   50.5   \n4        368170010  2021-01-01T00:00:28  29.57223  -90.59391  0.0  316.2   \n...            ...                  ...       ...        ...  ...    ...   \n6624807  369970581  2021-01-01T23:32:30  13.58122  144.83657  0.0  323.8   \n6624808  369970581  2021-01-01T23:38:41  13.58121  144.83661  0.0  312.1   \n6624809  369970581  2021-01-01T23:49:11  13.58121  144.83660  0.0  310.6   \n6624810  369970581  2021-01-01T23:52:41  13.58121  144.83660  0.0  309.5   \n6624811  369970581  2021-01-01T23:59:40  13.58121  144.83661  0.0  314.2   \n\n         Heading         VesselName         IMO CallSign  VesselType  Status  \\\n0          511.0          SALT WIFE  IMO0000000      NaN        37.0     NaN   \n1          511.0  TOTALLY EXCELLENT  IMO0000000  WDL7818        37.0     NaN   \n2          270.0          NATALIE H  IMO7200245  WDA4637        31.0     0.0   \n3          272.0                NaN         NaN      NaN         NaN    15.0   \n4          197.0                NaN         NaN      NaN         NaN    13.0   \n...          ...                ...         ...      ...         ...     ...   \n6624807    511.0         USN GUAM 1         NaN      NaN         NaN    15.0   \n6624808    511.0         USN GUAM 1         NaN      NaN         NaN    15.0   \n6624809    511.0         USN GUAM 1         NaN      NaN         NaN    15.0   \n6624810    511.0         USN GUAM 1         NaN      NaN         NaN    15.0   \n6624811    511.0         USN GUAM 1         NaN      NaN         NaN    15.0   \n\n         Length  Width  Draft  Cargo TranscieverClass  \n0          13.0    6.0    NaN    NaN                B  \n1          18.0    4.0    NaN    NaN                B  \n2          18.0    7.0    NaN    NaN                A  \n3           NaN    NaN    NaN    NaN                A  \n4           NaN    NaN    NaN    NaN                A  \n...         ...    ...    ...    ...              ...  \n6624807     NaN    NaN    NaN    NaN                A  \n6624808     NaN    NaN    NaN    NaN                A  \n6624809     NaN    NaN    NaN    NaN                A  \n6624810     NaN    NaN    NaN    NaN                A  \n6624811     NaN    NaN    NaN    NaN                A  \n\n[6624812 rows x 17 columns]",
      "text/html": "<div>\n<style scoped>\n    .dataframe tbody tr th:only-of-type {\n        vertical-align: middle;\n    }\n\n    .dataframe tbody tr th {\n        vertical-align: top;\n    }\n\n    .dataframe thead th {\n        text-align: right;\n    }\n</style>\n<table border=\"1\" class=\"dataframe\">\n  <thead>\n    <tr style=\"text-align: right;\">\n      <th></th>\n      <th>MMSI</th>\n      <th>BaseDateTime</th>\n      <th>LAT</th>\n      <th>LON</th>\n      <th>SOG</th>\n      <th>COG</th>\n      <th>Heading</th>\n      <th>VesselName</th>\n      <th>IMO</th>\n      <th>CallSign</th>\n      <th>VesselType</th>\n      <th>Status</th>\n      <th>Length</th>\n      <th>Width</th>\n      <th>Draft</th>\n      <th>Cargo</th>\n      <th>TranscieverClass</th>\n    </tr>\n  </thead>\n  <tbody>\n    <tr>\n      <th>0</th>\n      <td>338325166</td>\n      <td>2021-01-01T00:00:20</td>\n      <td>28.08771</td>\n      <td>-82.77474</td>\n      <td>0.0</td>\n      <td>0.0</td>\n      <td>511.0</td>\n      <td>SALT WIFE</td>\n      <td>IMO0000000</td>\n      <td>NaN</td>\n      <td>37.0</td>\n      <td>NaN</td>\n      <td>13.0</td>\n      <td>6.0</td>\n      <td>NaN</td>\n      <td>NaN</td>\n      <td>B</td>\n    </tr>\n    <tr>\n      <th>1</th>\n      <td>368163740</td>\n      <td>2021-01-01T00:00:18</td>\n      <td>26.10727</td>\n      <td>-80.12551</td>\n      <td>0.0</td>\n      <td>360.0</td>\n      <td>511.0</td>\n      <td>TOTALLY EXCELLENT</td>\n      <td>IMO0000000</td>\n      <td>WDL7818</td>\n      <td>37.0</td>\n      <td>NaN</td>\n      <td>18.0</td>\n      <td>4.0</td>\n      <td>NaN</td>\n      <td>NaN</td>\n      <td>B</td>\n    </tr>\n    <tr>\n      <th>2</th>\n      <td>366811570</td>\n      <td>2021-01-01T00:00:23</td>\n      <td>30.66150</td>\n      <td>-88.03264</td>\n      <td>0.0</td>\n      <td>196.0</td>\n      <td>270.0</td>\n      <td>NATALIE H</td>\n      <td>IMO7200245</td>\n      <td>WDA4637</td>\n      <td>31.0</td>\n      <td>0.0</td>\n      <td>18.0</td>\n      <td>7.0</td>\n      <td>NaN</td>\n      <td>NaN</td>\n      <td>A</td>\n    </tr>\n    <tr>\n      <th>3</th>\n      <td>368140750</td>\n      <td>2021-01-01T00:00:24</td>\n      <td>30.23140</td>\n      <td>-93.25791</td>\n      <td>0.0</td>\n      <td>50.5</td>\n      <td>272.0</td>\n      <td>NaN</td>\n      <td>NaN</td>\n      <td>NaN</td>\n      <td>NaN</td>\n      <td>15.0</td>\n      <td>NaN</td>\n      <td>NaN</td>\n      <td>NaN</td>\n      <td>NaN</td>\n      <td>A</td>\n    </tr>\n    <tr>\n      <th>4</th>\n      <td>368170010</td>\n      <td>2021-01-01T00:00:28</td>\n      <td>29.57223</td>\n      <td>-90.59391</td>\n      <td>0.0</td>\n      <td>316.2</td>\n      <td>197.0</td>\n      <td>NaN</td>\n      <td>NaN</td>\n      <td>NaN</td>\n      <td>NaN</td>\n      <td>13.0</td>\n      <td>NaN</td>\n      <td>NaN</td>\n      <td>NaN</td>\n      <td>NaN</td>\n      <td>A</td>\n    </tr>\n    <tr>\n      <th>...</th>\n      <td>...</td>\n      <td>...</td>\n      <td>...</td>\n      <td>...</td>\n      <td>...</td>\n      <td>...</td>\n      <td>...</td>\n      <td>...</td>\n      <td>...</td>\n      <td>...</td>\n      <td>...</td>\n      <td>...</td>\n      <td>...</td>\n      <td>...</td>\n      <td>...</td>\n      <td>...</td>\n      <td>...</td>\n    </tr>\n    <tr>\n      <th>6624807</th>\n      <td>369970581</td>\n      <td>2021-01-01T23:32:30</td>\n      <td>13.58122</td>\n      <td>144.83657</td>\n      <td>0.0</td>\n      <td>323.8</td>\n      <td>511.0</td>\n      <td>USN GUAM 1</td>\n      <td>NaN</td>\n      <td>NaN</td>\n      <td>NaN</td>\n      <td>15.0</td>\n      <td>NaN</td>\n      <td>NaN</td>\n      <td>NaN</td>\n      <td>NaN</td>\n      <td>A</td>\n    </tr>\n    <tr>\n      <th>6624808</th>\n      <td>369970581</td>\n      <td>2021-01-01T23:38:41</td>\n      <td>13.58121</td>\n      <td>144.83661</td>\n      <td>0.0</td>\n      <td>312.1</td>\n      <td>511.0</td>\n      <td>USN GUAM 1</td>\n      <td>NaN</td>\n      <td>NaN</td>\n      <td>NaN</td>\n      <td>15.0</td>\n      <td>NaN</td>\n      <td>NaN</td>\n      <td>NaN</td>\n      <td>NaN</td>\n      <td>A</td>\n    </tr>\n    <tr>\n      <th>6624809</th>\n      <td>369970581</td>\n      <td>2021-01-01T23:49:11</td>\n      <td>13.58121</td>\n      <td>144.83660</td>\n      <td>0.0</td>\n      <td>310.6</td>\n      <td>511.0</td>\n      <td>USN GUAM 1</td>\n      <td>NaN</td>\n      <td>NaN</td>\n      <td>NaN</td>\n      <td>15.0</td>\n      <td>NaN</td>\n      <td>NaN</td>\n      <td>NaN</td>\n      <td>NaN</td>\n      <td>A</td>\n    </tr>\n    <tr>\n      <th>6624810</th>\n      <td>369970581</td>\n      <td>2021-01-01T23:52:41</td>\n      <td>13.58121</td>\n      <td>144.83660</td>\n      <td>0.0</td>\n      <td>309.5</td>\n      <td>511.0</td>\n      <td>USN GUAM 1</td>\n      <td>NaN</td>\n      <td>NaN</td>\n      <td>NaN</td>\n      <td>15.0</td>\n      <td>NaN</td>\n      <td>NaN</td>\n      <td>NaN</td>\n      <td>NaN</td>\n      <td>A</td>\n    </tr>\n    <tr>\n      <th>6624811</th>\n      <td>369970581</td>\n      <td>2021-01-01T23:59:40</td>\n      <td>13.58121</td>\n      <td>144.83661</td>\n      <td>0.0</td>\n      <td>314.2</td>\n      <td>511.0</td>\n      <td>USN GUAM 1</td>\n      <td>NaN</td>\n      <td>NaN</td>\n      <td>NaN</td>\n      <td>15.0</td>\n      <td>NaN</td>\n      <td>NaN</td>\n      <td>NaN</td>\n      <td>NaN</td>\n      <td>A</td>\n    </tr>\n  </tbody>\n</table>\n<p>6624812 rows × 17 columns</p>\n</div>"
     },
     "execution_count": 2,
     "metadata": {},
     "output_type": "execute_result"
    }
   ],
   "source": [
    "data = pd.read_csv('../AIS_2021_01_01.csv',header=\"infer\")\n",
    "\n",
    "data_copy = data.copy()\n",
    "\n",
    "data"
   ],
   "metadata": {
    "collapsed": false,
    "pycharm": {
     "name": "#%%\n"
    }
   }
  },
  {
   "cell_type": "code",
   "execution_count": null,
   "outputs": [],
   "source": [
    "data.columns = ['MMSI','BaseDateTime','LAT','LON','SOG','COG','Heading','VesselName','IMO','CallSign','VesselType','Status','Length','Width','Draft','Cargo','TranscieverClass']\n",
    "data.drop(index=data.index[0], axis=0, inplace=True)\n",
    "\n",
    "data_copy2 = data.copy()\n",
    "\n",
    "print('The dataset has {} rows and {} columns'.format(data.shape[0], data.shape[1]))\n",
    "print(data.describe())\n",
    "print(data.head())\n",
    "print(data.dtypes.value_counts())"
   ],
   "metadata": {
    "collapsed": false,
    "pycharm": {
     "name": "#%%\n"
    }
   }
  }
 ],
 "metadata": {
  "language_info": {
   "name": "python"
  },
  "orig_nbformat": 4
 },
 "nbformat": 4,
 "nbformat_minor": 2
}