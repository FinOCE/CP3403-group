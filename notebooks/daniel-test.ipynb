{
 "cells": [
  {
   "cell_type": "markdown",
   "source": [
    "# [data download link](https://coast.noaagov/htdata/CMSP/AISDataHandler/2021/AIS_2021_01_01.zip)"
   ],
   "metadata": {
    "collapsed": false
   }
  },
  {
   "cell_type": "code",
   "execution_count": 39,
   "outputs": [],
   "source": [
    "import pandas as pd"
   ],
   "metadata": {
    "collapsed": false,
    "pycharm": {
     "name": "#%%\n"
    }
   }
  },
  {
   "cell_type": "code",
   "execution_count": 40,
   "outputs": [
    {
     "data": {
      "text/plain": "              MMSI         BaseDateTime    LAT     LON   SOG     COG  Heading  \\\n0        338325166  2021-01-01T00:00:20 28.088 -82.775 0.000   0.000  511.000   \n1        368163740  2021-01-01T00:00:18 26.107 -80.126 0.000 360.000  511.000   \n2        366811570  2021-01-01T00:00:23 30.662 -88.033 0.000 196.000  270.000   \n3        368140750  2021-01-01T00:00:24 30.231 -93.258 0.000  50.500  272.000   \n4        368170010  2021-01-01T00:00:28 29.572 -90.594 0.000 316.200  197.000   \n...            ...                  ...    ...     ...   ...     ...      ...   \n6624807  369970581  2021-01-01T23:32:30 13.581 144.837 0.000 323.800  511.000   \n6624808  369970581  2021-01-01T23:38:41 13.581 144.837 0.000 312.100  511.000   \n6624809  369970581  2021-01-01T23:49:11 13.581 144.837 0.000 310.600  511.000   \n6624810  369970581  2021-01-01T23:52:41 13.581 144.837 0.000 309.500  511.000   \n6624811  369970581  2021-01-01T23:59:40 13.581 144.837 0.000 314.200  511.000   \n\n                VesselName         IMO CallSign  VesselType  Status  Length  \\\n0                SALT WIFE  IMO0000000      NaN      37.000     NaN  13.000   \n1        TOTALLY EXCELLENT  IMO0000000  WDL7818      37.000     NaN  18.000   \n2                NATALIE H  IMO7200245  WDA4637      31.000   0.000  18.000   \n3                      NaN         NaN      NaN         NaN  15.000     NaN   \n4                      NaN         NaN      NaN         NaN  13.000     NaN   \n...                    ...         ...      ...         ...     ...     ...   \n6624807         USN GUAM 1         NaN      NaN         NaN  15.000     NaN   \n6624808         USN GUAM 1         NaN      NaN         NaN  15.000     NaN   \n6624809         USN GUAM 1         NaN      NaN         NaN  15.000     NaN   \n6624810         USN GUAM 1         NaN      NaN         NaN  15.000     NaN   \n6624811         USN GUAM 1         NaN      NaN         NaN  15.000     NaN   \n\n         Width  Draft  Cargo TranscieverClass  \n0        6.000    NaN    NaN                B  \n1        4.000    NaN    NaN                B  \n2        7.000    NaN    NaN                A  \n3          NaN    NaN    NaN                A  \n4          NaN    NaN    NaN                A  \n...        ...    ...    ...              ...  \n6624807    NaN    NaN    NaN                A  \n6624808    NaN    NaN    NaN                A  \n6624809    NaN    NaN    NaN                A  \n6624810    NaN    NaN    NaN                A  \n6624811    NaN    NaN    NaN                A  \n\n[6624812 rows x 17 columns]",
      "text/html": "<div>\n<style scoped>\n    .dataframe tbody tr th:only-of-type {\n        vertical-align: middle;\n    }\n\n    .dataframe tbody tr th {\n        vertical-align: top;\n    }\n\n    .dataframe thead th {\n        text-align: right;\n    }\n</style>\n<table border=\"1\" class=\"dataframe\">\n  <thead>\n    <tr style=\"text-align: right;\">\n      <th></th>\n      <th>MMSI</th>\n      <th>BaseDateTime</th>\n      <th>LAT</th>\n      <th>LON</th>\n      <th>SOG</th>\n      <th>COG</th>\n      <th>Heading</th>\n      <th>VesselName</th>\n      <th>IMO</th>\n      <th>CallSign</th>\n      <th>VesselType</th>\n      <th>Status</th>\n      <th>Length</th>\n      <th>Width</th>\n      <th>Draft</th>\n      <th>Cargo</th>\n      <th>TranscieverClass</th>\n    </tr>\n  </thead>\n  <tbody>\n    <tr>\n      <th>0</th>\n      <td>338325166</td>\n      <td>2021-01-01T00:00:20</td>\n      <td>28.088</td>\n      <td>-82.775</td>\n      <td>0.000</td>\n      <td>0.000</td>\n      <td>511.000</td>\n      <td>SALT WIFE</td>\n      <td>IMO0000000</td>\n      <td>NaN</td>\n      <td>37.000</td>\n      <td>NaN</td>\n      <td>13.000</td>\n      <td>6.000</td>\n      <td>NaN</td>\n      <td>NaN</td>\n      <td>B</td>\n    </tr>\n    <tr>\n      <th>1</th>\n      <td>368163740</td>\n      <td>2021-01-01T00:00:18</td>\n      <td>26.107</td>\n      <td>-80.126</td>\n      <td>0.000</td>\n      <td>360.000</td>\n      <td>511.000</td>\n      <td>TOTALLY EXCELLENT</td>\n      <td>IMO0000000</td>\n      <td>WDL7818</td>\n      <td>37.000</td>\n      <td>NaN</td>\n      <td>18.000</td>\n      <td>4.000</td>\n      <td>NaN</td>\n      <td>NaN</td>\n      <td>B</td>\n    </tr>\n    <tr>\n      <th>2</th>\n      <td>366811570</td>\n      <td>2021-01-01T00:00:23</td>\n      <td>30.662</td>\n      <td>-88.033</td>\n      <td>0.000</td>\n      <td>196.000</td>\n      <td>270.000</td>\n      <td>NATALIE H</td>\n      <td>IMO7200245</td>\n      <td>WDA4637</td>\n      <td>31.000</td>\n      <td>0.000</td>\n      <td>18.000</td>\n      <td>7.000</td>\n      <td>NaN</td>\n      <td>NaN</td>\n      <td>A</td>\n    </tr>\n    <tr>\n      <th>3</th>\n      <td>368140750</td>\n      <td>2021-01-01T00:00:24</td>\n      <td>30.231</td>\n      <td>-93.258</td>\n      <td>0.000</td>\n      <td>50.500</td>\n      <td>272.000</td>\n      <td>NaN</td>\n      <td>NaN</td>\n      <td>NaN</td>\n      <td>NaN</td>\n      <td>15.000</td>\n      <td>NaN</td>\n      <td>NaN</td>\n      <td>NaN</td>\n      <td>NaN</td>\n      <td>A</td>\n    </tr>\n    <tr>\n      <th>4</th>\n      <td>368170010</td>\n      <td>2021-01-01T00:00:28</td>\n      <td>29.572</td>\n      <td>-90.594</td>\n      <td>0.000</td>\n      <td>316.200</td>\n      <td>197.000</td>\n      <td>NaN</td>\n      <td>NaN</td>\n      <td>NaN</td>\n      <td>NaN</td>\n      <td>13.000</td>\n      <td>NaN</td>\n      <td>NaN</td>\n      <td>NaN</td>\n      <td>NaN</td>\n      <td>A</td>\n    </tr>\n    <tr>\n      <th>...</th>\n      <td>...</td>\n      <td>...</td>\n      <td>...</td>\n      <td>...</td>\n      <td>...</td>\n      <td>...</td>\n      <td>...</td>\n      <td>...</td>\n      <td>...</td>\n      <td>...</td>\n      <td>...</td>\n      <td>...</td>\n      <td>...</td>\n      <td>...</td>\n      <td>...</td>\n      <td>...</td>\n      <td>...</td>\n    </tr>\n    <tr>\n      <th>6624807</th>\n      <td>369970581</td>\n      <td>2021-01-01T23:32:30</td>\n      <td>13.581</td>\n      <td>144.837</td>\n      <td>0.000</td>\n      <td>323.800</td>\n      <td>511.000</td>\n      <td>USN GUAM 1</td>\n      <td>NaN</td>\n      <td>NaN</td>\n      <td>NaN</td>\n      <td>15.000</td>\n      <td>NaN</td>\n      <td>NaN</td>\n      <td>NaN</td>\n      <td>NaN</td>\n      <td>A</td>\n    </tr>\n    <tr>\n      <th>6624808</th>\n      <td>369970581</td>\n      <td>2021-01-01T23:38:41</td>\n      <td>13.581</td>\n      <td>144.837</td>\n      <td>0.000</td>\n      <td>312.100</td>\n      <td>511.000</td>\n      <td>USN GUAM 1</td>\n      <td>NaN</td>\n      <td>NaN</td>\n      <td>NaN</td>\n      <td>15.000</td>\n      <td>NaN</td>\n      <td>NaN</td>\n      <td>NaN</td>\n      <td>NaN</td>\n      <td>A</td>\n    </tr>\n    <tr>\n      <th>6624809</th>\n      <td>369970581</td>\n      <td>2021-01-01T23:49:11</td>\n      <td>13.581</td>\n      <td>144.837</td>\n      <td>0.000</td>\n      <td>310.600</td>\n      <td>511.000</td>\n      <td>USN GUAM 1</td>\n      <td>NaN</td>\n      <td>NaN</td>\n      <td>NaN</td>\n      <td>15.000</td>\n      <td>NaN</td>\n      <td>NaN</td>\n      <td>NaN</td>\n      <td>NaN</td>\n      <td>A</td>\n    </tr>\n    <tr>\n      <th>6624810</th>\n      <td>369970581</td>\n      <td>2021-01-01T23:52:41</td>\n      <td>13.581</td>\n      <td>144.837</td>\n      <td>0.000</td>\n      <td>309.500</td>\n      <td>511.000</td>\n      <td>USN GUAM 1</td>\n      <td>NaN</td>\n      <td>NaN</td>\n      <td>NaN</td>\n      <td>15.000</td>\n      <td>NaN</td>\n      <td>NaN</td>\n      <td>NaN</td>\n      <td>NaN</td>\n      <td>A</td>\n    </tr>\n    <tr>\n      <th>6624811</th>\n      <td>369970581</td>\n      <td>2021-01-01T23:59:40</td>\n      <td>13.581</td>\n      <td>144.837</td>\n      <td>0.000</td>\n      <td>314.200</td>\n      <td>511.000</td>\n      <td>USN GUAM 1</td>\n      <td>NaN</td>\n      <td>NaN</td>\n      <td>NaN</td>\n      <td>15.000</td>\n      <td>NaN</td>\n      <td>NaN</td>\n      <td>NaN</td>\n      <td>NaN</td>\n      <td>A</td>\n    </tr>\n  </tbody>\n</table>\n<p>6624812 rows × 17 columns</p>\n</div>"
     },
     "execution_count": 40,
     "metadata": {},
     "output_type": "execute_result"
    }
   ],
   "source": [
    "data = pd.read_csv('data/AIS_2021_01_01.csv',header=\"infer\")\n",
    "\n",
    "data_copy = data.copy()\n",
    "\n",
    "data"
   ],
   "metadata": {
    "collapsed": false,
    "pycharm": {
     "name": "#%%\n"
    }
   }
  },
  {
   "cell_type": "code",
   "execution_count": 41,
   "outputs": [
    {
     "data": {
      "text/plain": "MMSI                  int64\nBaseDateTime         object\nLAT                 float64\nLON                 float64\nSOG                 float64\nCOG                 float64\nHeading             float64\nVesselName           object\nIMO                  object\nCallSign             object\nVesselType          float64\nStatus              float64\nLength              float64\nWidth               float64\nDraft               float64\nCargo               float64\nTranscieverClass     object\ndtype: object"
     },
     "execution_count": 41,
     "metadata": {},
     "output_type": "execute_result"
    }
   ],
   "source": [
    "pd.to_datetime(data['BaseDateTime'], errors='coerce')\n",
    "\n",
    "data[['LAT', 'LON', 'SOG', 'COG', 'Heading', 'VesselType', 'Status', 'Length', 'Width', 'Draft']].apply(pd.to_numeric, errors='coerce')\n",
    "\n",
    "data.dtypes"
   ],
   "metadata": {
    "collapsed": false,
    "pycharm": {
     "name": "#%%\n"
    }
   }
  },
  {
   "cell_type": "code",
   "execution_count": 42,
   "outputs": [],
   "source": [
    "data2 = data.copy()\n",
    "data2.drop(['VesselName', 'IMO', 'CallSign', 'SOG', 'COG', 'VesselType', 'Status','Length', 'Width', 'Draft', 'Cargo', 'TranscieverClass' ], inplace=True, axis=1)"
   ],
   "metadata": {
    "collapsed": false,
    "pycharm": {
     "name": "#%%\n"
    }
   }
  },
  {
   "cell_type": "code",
   "execution_count": 43,
   "outputs": [
    {
     "data": {
      "text/plain": "              MMSI         BaseDateTime    LAT     LON  Heading\n0        338325166  2021-01-01T00:00:20 28.088 -82.775  511.000\n1        368163740  2021-01-01T00:00:18 26.107 -80.126  511.000\n2        366811570  2021-01-01T00:00:23 30.662 -88.033  270.000\n3        368140750  2021-01-01T00:00:24 30.231 -93.258  272.000\n4        368170010  2021-01-01T00:00:28 29.572 -90.594  197.000\n...            ...                  ...    ...     ...      ...\n6624807  369970581  2021-01-01T23:32:30 13.581 144.837  511.000\n6624808  369970581  2021-01-01T23:38:41 13.581 144.837  511.000\n6624809  369970581  2021-01-01T23:49:11 13.581 144.837  511.000\n6624810  369970581  2021-01-01T23:52:41 13.581 144.837  511.000\n6624811  369970581  2021-01-01T23:59:40 13.581 144.837  511.000\n\n[6624812 rows x 5 columns]",
      "text/html": "<div>\n<style scoped>\n    .dataframe tbody tr th:only-of-type {\n        vertical-align: middle;\n    }\n\n    .dataframe tbody tr th {\n        vertical-align: top;\n    }\n\n    .dataframe thead th {\n        text-align: right;\n    }\n</style>\n<table border=\"1\" class=\"dataframe\">\n  <thead>\n    <tr style=\"text-align: right;\">\n      <th></th>\n      <th>MMSI</th>\n      <th>BaseDateTime</th>\n      <th>LAT</th>\n      <th>LON</th>\n      <th>Heading</th>\n    </tr>\n  </thead>\n  <tbody>\n    <tr>\n      <th>0</th>\n      <td>338325166</td>\n      <td>2021-01-01T00:00:20</td>\n      <td>28.088</td>\n      <td>-82.775</td>\n      <td>511.000</td>\n    </tr>\n    <tr>\n      <th>1</th>\n      <td>368163740</td>\n      <td>2021-01-01T00:00:18</td>\n      <td>26.107</td>\n      <td>-80.126</td>\n      <td>511.000</td>\n    </tr>\n    <tr>\n      <th>2</th>\n      <td>366811570</td>\n      <td>2021-01-01T00:00:23</td>\n      <td>30.662</td>\n      <td>-88.033</td>\n      <td>270.000</td>\n    </tr>\n    <tr>\n      <th>3</th>\n      <td>368140750</td>\n      <td>2021-01-01T00:00:24</td>\n      <td>30.231</td>\n      <td>-93.258</td>\n      <td>272.000</td>\n    </tr>\n    <tr>\n      <th>4</th>\n      <td>368170010</td>\n      <td>2021-01-01T00:00:28</td>\n      <td>29.572</td>\n      <td>-90.594</td>\n      <td>197.000</td>\n    </tr>\n    <tr>\n      <th>...</th>\n      <td>...</td>\n      <td>...</td>\n      <td>...</td>\n      <td>...</td>\n      <td>...</td>\n    </tr>\n    <tr>\n      <th>6624807</th>\n      <td>369970581</td>\n      <td>2021-01-01T23:32:30</td>\n      <td>13.581</td>\n      <td>144.837</td>\n      <td>511.000</td>\n    </tr>\n    <tr>\n      <th>6624808</th>\n      <td>369970581</td>\n      <td>2021-01-01T23:38:41</td>\n      <td>13.581</td>\n      <td>144.837</td>\n      <td>511.000</td>\n    </tr>\n    <tr>\n      <th>6624809</th>\n      <td>369970581</td>\n      <td>2021-01-01T23:49:11</td>\n      <td>13.581</td>\n      <td>144.837</td>\n      <td>511.000</td>\n    </tr>\n    <tr>\n      <th>6624810</th>\n      <td>369970581</td>\n      <td>2021-01-01T23:52:41</td>\n      <td>13.581</td>\n      <td>144.837</td>\n      <td>511.000</td>\n    </tr>\n    <tr>\n      <th>6624811</th>\n      <td>369970581</td>\n      <td>2021-01-01T23:59:40</td>\n      <td>13.581</td>\n      <td>144.837</td>\n      <td>511.000</td>\n    </tr>\n  </tbody>\n</table>\n<p>6624812 rows × 5 columns</p>\n</div>"
     },
     "execution_count": 43,
     "metadata": {},
     "output_type": "execute_result"
    }
   ],
   "source": [
    "data2"
   ],
   "metadata": {
    "collapsed": false,
    "pycharm": {
     "name": "#%%\n"
    }
   }
  },
  {
   "cell_type": "code",
   "execution_count": 44,
   "outputs": [
    {
     "data": {
      "text/plain": "0          True\n1          True\n2          True\n3          True\n4          True\n           ... \n6624807    True\n6624808    True\n6624809    True\n6624810    True\n6624811    True\nLength: 6624812, dtype: bool"
     },
     "execution_count": 44,
     "metadata": {},
     "output_type": "execute_result"
    }
   ],
   "source": [
    "data3 = data2.copy()\n",
    "\n",
    "from IPython.display import display\n",
    "pd.options.display.float_format = '{:,.3f}'.format\n",
    "\n",
    "data3.duplicated(subset ='MMSI', keep = False)"
   ],
   "metadata": {
    "collapsed": false,
    "pycharm": {
     "name": "#%%\n"
    }
   }
  },
  {
   "cell_type": "code",
   "execution_count": 45,
   "outputs": [
    {
     "data": {
      "text/plain": "              MMSI         BaseDateTime    LAT     LON  Heading\n0        338325166  2021-01-01T00:00:20 28.088 -82.775  511.000\n1        368163740  2021-01-01T00:00:18 26.107 -80.126  511.000\n2        366811570  2021-01-01T00:00:23 30.662 -88.033  270.000\n3        368140750  2021-01-01T00:00:24 30.231 -93.258  272.000\n4        368170010  2021-01-01T00:00:28 29.572 -90.594  197.000\n...            ...                  ...    ...     ...      ...\n6624807  369970581  2021-01-01T23:32:30 13.581 144.837  511.000\n6624808  369970581  2021-01-01T23:38:41 13.581 144.837  511.000\n6624809  369970581  2021-01-01T23:49:11 13.581 144.837  511.000\n6624810  369970581  2021-01-01T23:52:41 13.581 144.837  511.000\n6624811  369970581  2021-01-01T23:59:40 13.581 144.837  511.000\n\n[6624812 rows x 5 columns]",
      "text/html": "<div>\n<style scoped>\n    .dataframe tbody tr th:only-of-type {\n        vertical-align: middle;\n    }\n\n    .dataframe tbody tr th {\n        vertical-align: top;\n    }\n\n    .dataframe thead th {\n        text-align: right;\n    }\n</style>\n<table border=\"1\" class=\"dataframe\">\n  <thead>\n    <tr style=\"text-align: right;\">\n      <th></th>\n      <th>MMSI</th>\n      <th>BaseDateTime</th>\n      <th>LAT</th>\n      <th>LON</th>\n      <th>Heading</th>\n    </tr>\n  </thead>\n  <tbody>\n    <tr>\n      <th>0</th>\n      <td>338325166</td>\n      <td>2021-01-01T00:00:20</td>\n      <td>28.088</td>\n      <td>-82.775</td>\n      <td>511.000</td>\n    </tr>\n    <tr>\n      <th>1</th>\n      <td>368163740</td>\n      <td>2021-01-01T00:00:18</td>\n      <td>26.107</td>\n      <td>-80.126</td>\n      <td>511.000</td>\n    </tr>\n    <tr>\n      <th>2</th>\n      <td>366811570</td>\n      <td>2021-01-01T00:00:23</td>\n      <td>30.662</td>\n      <td>-88.033</td>\n      <td>270.000</td>\n    </tr>\n    <tr>\n      <th>3</th>\n      <td>368140750</td>\n      <td>2021-01-01T00:00:24</td>\n      <td>30.231</td>\n      <td>-93.258</td>\n      <td>272.000</td>\n    </tr>\n    <tr>\n      <th>4</th>\n      <td>368170010</td>\n      <td>2021-01-01T00:00:28</td>\n      <td>29.572</td>\n      <td>-90.594</td>\n      <td>197.000</td>\n    </tr>\n    <tr>\n      <th>...</th>\n      <td>...</td>\n      <td>...</td>\n      <td>...</td>\n      <td>...</td>\n      <td>...</td>\n    </tr>\n    <tr>\n      <th>6624807</th>\n      <td>369970581</td>\n      <td>2021-01-01T23:32:30</td>\n      <td>13.581</td>\n      <td>144.837</td>\n      <td>511.000</td>\n    </tr>\n    <tr>\n      <th>6624808</th>\n      <td>369970581</td>\n      <td>2021-01-01T23:38:41</td>\n      <td>13.581</td>\n      <td>144.837</td>\n      <td>511.000</td>\n    </tr>\n    <tr>\n      <th>6624809</th>\n      <td>369970581</td>\n      <td>2021-01-01T23:49:11</td>\n      <td>13.581</td>\n      <td>144.837</td>\n      <td>511.000</td>\n    </tr>\n    <tr>\n      <th>6624810</th>\n      <td>369970581</td>\n      <td>2021-01-01T23:52:41</td>\n      <td>13.581</td>\n      <td>144.837</td>\n      <td>511.000</td>\n    </tr>\n    <tr>\n      <th>6624811</th>\n      <td>369970581</td>\n      <td>2021-01-01T23:59:40</td>\n      <td>13.581</td>\n      <td>144.837</td>\n      <td>511.000</td>\n    </tr>\n  </tbody>\n</table>\n<p>6624812 rows × 5 columns</p>\n</div>"
     },
     "execution_count": 45,
     "metadata": {},
     "output_type": "execute_result"
    }
   ],
   "source": [
    "data3"
   ],
   "metadata": {
    "collapsed": false,
    "pycharm": {
     "name": "#%%\n"
    }
   }
  },
  {
   "cell_type": "code",
   "execution_count": 46,
   "outputs": [],
   "source": [
    "data3 = data3.groupby('MMSI').nth([0, -1])"
   ],
   "metadata": {
    "collapsed": false,
    "pycharm": {
     "name": "#%%\n"
    }
   }
  },
  {
   "cell_type": "code",
   "execution_count": 47,
   "outputs": [
    {
     "data": {
      "text/plain": "                   BaseDateTime    LAT      LON  Heading\nMMSI                                                    \n0           2021-01-01T00:17:29 21.316 -157.877  511.000\n0           2021-01-01T23:42:33 21.316 -157.877  511.000\n8           2021-01-01T01:53:48 47.554 -122.654  511.000\n11          2021-01-01T23:51:00 27.292  -90.968  511.000\n11          2021-01-01T01:11:53 27.292  -90.968  511.000\n...                         ...    ...      ...      ...\n983192134   2021-01-01T07:17:32 25.796  -80.146  511.000\n983542775   2021-01-01T22:16:33 33.735 -118.154  511.000\n983542775   2021-01-01T21:12:24 33.695 -118.124  511.000\n1072211352  2021-01-01T22:54:23 33.611 -117.927   46.000\n1072211352  2021-01-01T00:01:21 33.611 -117.927   46.000\n\n[25043 rows x 4 columns]",
      "text/html": "<div>\n<style scoped>\n    .dataframe tbody tr th:only-of-type {\n        vertical-align: middle;\n    }\n\n    .dataframe tbody tr th {\n        vertical-align: top;\n    }\n\n    .dataframe thead th {\n        text-align: right;\n    }\n</style>\n<table border=\"1\" class=\"dataframe\">\n  <thead>\n    <tr style=\"text-align: right;\">\n      <th></th>\n      <th>BaseDateTime</th>\n      <th>LAT</th>\n      <th>LON</th>\n      <th>Heading</th>\n    </tr>\n    <tr>\n      <th>MMSI</th>\n      <th></th>\n      <th></th>\n      <th></th>\n      <th></th>\n    </tr>\n  </thead>\n  <tbody>\n    <tr>\n      <th>0</th>\n      <td>2021-01-01T00:17:29</td>\n      <td>21.316</td>\n      <td>-157.877</td>\n      <td>511.000</td>\n    </tr>\n    <tr>\n      <th>0</th>\n      <td>2021-01-01T23:42:33</td>\n      <td>21.316</td>\n      <td>-157.877</td>\n      <td>511.000</td>\n    </tr>\n    <tr>\n      <th>8</th>\n      <td>2021-01-01T01:53:48</td>\n      <td>47.554</td>\n      <td>-122.654</td>\n      <td>511.000</td>\n    </tr>\n    <tr>\n      <th>11</th>\n      <td>2021-01-01T23:51:00</td>\n      <td>27.292</td>\n      <td>-90.968</td>\n      <td>511.000</td>\n    </tr>\n    <tr>\n      <th>11</th>\n      <td>2021-01-01T01:11:53</td>\n      <td>27.292</td>\n      <td>-90.968</td>\n      <td>511.000</td>\n    </tr>\n    <tr>\n      <th>...</th>\n      <td>...</td>\n      <td>...</td>\n      <td>...</td>\n      <td>...</td>\n    </tr>\n    <tr>\n      <th>983192134</th>\n      <td>2021-01-01T07:17:32</td>\n      <td>25.796</td>\n      <td>-80.146</td>\n      <td>511.000</td>\n    </tr>\n    <tr>\n      <th>983542775</th>\n      <td>2021-01-01T22:16:33</td>\n      <td>33.735</td>\n      <td>-118.154</td>\n      <td>511.000</td>\n    </tr>\n    <tr>\n      <th>983542775</th>\n      <td>2021-01-01T21:12:24</td>\n      <td>33.695</td>\n      <td>-118.124</td>\n      <td>511.000</td>\n    </tr>\n    <tr>\n      <th>1072211352</th>\n      <td>2021-01-01T22:54:23</td>\n      <td>33.611</td>\n      <td>-117.927</td>\n      <td>46.000</td>\n    </tr>\n    <tr>\n      <th>1072211352</th>\n      <td>2021-01-01T00:01:21</td>\n      <td>33.611</td>\n      <td>-117.927</td>\n      <td>46.000</td>\n    </tr>\n  </tbody>\n</table>\n<p>25043 rows × 4 columns</p>\n</div>"
     },
     "execution_count": 47,
     "metadata": {},
     "output_type": "execute_result"
    }
   ],
   "source": [
    "data3"
   ],
   "metadata": {
    "collapsed": false,
    "pycharm": {
     "name": "#%%\n"
    }
   }
  }
 ],
 "metadata": {
  "language_info": {
   "name": "python"
  },
  "orig_nbformat": 4
 },
 "nbformat": 4,
 "nbformat_minor": 2
}